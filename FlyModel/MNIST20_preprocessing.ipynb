{
 "cells": [
  {
   "cell_type": "code",
   "execution_count": null,
   "metadata": {},
   "outputs": [],
   "source": [
    "from __future__ import print_function, division\n",
    "import numpy as np\n",
    "import pandas as pd\n",
    "import seaborn as sns\n",
    "\n",
    "import torch\n",
    "import torch.nn as nn\n",
    "import torch.optim as optim\n",
    "from torch.optim import lr_scheduler\n",
    "import numpy as np\n",
    "import torchvision\n",
    "from torchvision import datasets, models, transforms\n",
    "import matplotlib.pyplot as plt\n",
    "import time\n",
    "import os\n",
    "import copy\n",
    "\n",
    "from torch.utils.data import Dataset, DataLoader\n",
    "import matplotlib.pyplot as plt\n",
    "import sys\n",
    "import warnings\n",
    "import matplotlib.pyplot as plt\n",
    "import random\n",
    "warnings.filterwarnings('ignore')"
   ]
  },
  {
   "cell_type": "code",
   "execution_count": null,
   "metadata": {},
   "outputs": [],
   "source": [
    "import torch.nn.functional as F\n",
    "import torch.nn as nn\n",
    "class LeNet5(nn.Module):\n",
    "    def __init__(self):\n",
    "        super(LeNet5, self).__init__()\n",
    "        self.conv1 = nn.Conv2d(1, 6, 3)\n",
    "        self.bn2d1 = nn.BatchNorm2d(6, affine=True)\n",
    "        self.conv2 = nn.Conv2d(6, 16, 3)\n",
    "        self.bn2d2 = nn.BatchNorm2d(16, affine=True)\n",
    "        self.fc1   = nn.Linear(16*5*5, 120)\n",
    "        self.bn1   = nn.BatchNorm1d(120, affine=True)\n",
    "        self.fc2   = nn.Linear(120, 84)\n",
    "        self.bn2   = nn.BatchNorm1d(84, affine=True)\n",
    "        self.fc3   = nn.Linear(84, 10)\n",
    "\n",
    "    def forward(self, x):\n",
    "        conv1 = F.relu(self.bn2d1(self.conv1(x)))\n",
    "        conv1 = F.max_pool2d(conv1, 2)\n",
    "        conv2 = F.relu(self.bn2d2(self.conv2(conv1)))\n",
    "        conv2 = F.max_pool2d(conv2, 2)\n",
    "        fc = conv2.view(conv2.size(0), -1)\n",
    "        h_relu1 = self.bn1(self.fc1(fc)).clamp(min=0)\n",
    "        h_relu2 = self.bn2(self.fc2(h_relu1)).clamp(min=0)\n",
    "        out = self.fc3(h_relu2)\n",
    "        return (out, h_relu1, h_relu2)"
   ]
  },
  {
   "cell_type": "code",
   "execution_count": null,
   "metadata": {},
   "outputs": [],
   "source": [
    "def train_model(model, criterion, optimizer, scheduler, num_epochs=25):\n",
    "    since = time.time()\n",
    "\n",
    "    best_model_wts = copy.deepcopy(model.state_dict())\n",
    "    best_acc = 0.0\n",
    "\n",
    "    for epoch in range(num_epochs):\n",
    "        print('Epoch {}/{}'.format(epoch+1, num_epochs))\n",
    "        print('-' * 10)\n",
    "\n",
    "        # Each epoch has a training and validation phase\n",
    "        for phase in ['train', 'val']:\n",
    "            if phase == 'train':\n",
    "                model.train()  # Set model to training mode\n",
    "            else:\n",
    "                model.eval()   # Set model to evaluate mode\n",
    "\n",
    "            running_loss = 0.0\n",
    "            running_corrects = 0\n",
    "\n",
    "            # Iterate over data.\n",
    "            for inputs, labels in dataloaders[phase]:\n",
    "                inputs = inputs.to(device)\n",
    "                labels = labels.to(device)\n",
    "\n",
    "                # zero the parameter gradients\n",
    "                optimizer.zero_grad()\n",
    "\n",
    "                # forward\n",
    "                # track history if only in train\n",
    "                with torch.set_grad_enabled(phase == 'train'):\n",
    "                    outputs = model(inputs)[0]\n",
    "                    _, preds = torch.max(outputs, 1)\n",
    "                    loss = criterion(outputs, labels)\n",
    "\n",
    "                    # backward + optimize only if in training phase\n",
    "                    if phase == 'train':\n",
    "                        loss.backward()\n",
    "                        optimizer.step()\n",
    "\n",
    "                # statistics\n",
    "                running_loss += loss.item() * inputs.size(0)\n",
    "                running_corrects += torch.sum(preds == labels.data)\n",
    "            \n",
    "            if phase == 'train':\n",
    "                scheduler.step()\n",
    "\n",
    "            epoch_loss = running_loss / dataset_sizes[phase]\n",
    "            epoch_acc = running_corrects.double() / dataset_sizes[phase]\n",
    "\n",
    "            print('{} Loss: {:.4f} Acc: {:.4f}'.format(\n",
    "                phase, epoch_loss, epoch_acc))\n",
    "\n",
    "            # deep copy the model\n",
    "            if phase == 'val' and epoch_acc > best_acc:\n",
    "                best_acc = epoch_acc\n",
    "                best_model_wts = copy.deepcopy(model.state_dict())\n",
    "\n",
    "        print()\n",
    "\n",
    "    time_elapsed = time.time() - since\n",
    "    print('Training complete in {:.0f}m {:.0f}s'.format(\n",
    "        time_elapsed // 60, time_elapsed % 60))\n",
    "    print('Best val Acc: {:4f}'.format(best_acc))\n",
    "\n",
    "    # load best model weights\n",
    "    model.load_state_dict(best_model_wts)\n",
    "    return model"
   ]
  },
  {
   "cell_type": "code",
   "execution_count": null,
   "metadata": {},
   "outputs": [],
   "source": [
    "k_mnist_train = datasets.KMNIST(\"../data\", train=True, download=True, transform=transforms.ToTensor())\n",
    "k_mnist_test = datasets.KMNIST(\"../data\", train=False, download=True, transform=transforms.ToTensor())\n",
    "k_train_loader = DataLoader(k_mnist_train, batch_size = 64, shuffle=True)\n",
    "k_test_loader = DataLoader(k_mnist_test, batch_size = 128, shuffle=False)"
   ]
  },
  {
   "cell_type": "code",
   "execution_count": null,
   "metadata": {},
   "outputs": [],
   "source": [
    "k_mnist_test.data.shape"
   ]
  },
  {
   "cell_type": "code",
   "execution_count": null,
   "metadata": {},
   "outputs": [],
   "source": [
    "image_datasets = {'train':k_mnist_train,'val':k_mnist_test}\n",
    "dataloaders = {'train':k_train_loader,'val':k_test_loader}\n",
    "dataset_sizes = {x: len(image_datasets[x]) for x in ['train', 'val']}\n",
    "\n",
    "device = torch.device(\"cuda:0\" if torch.cuda.is_available() else \"cpu\")"
   ]
  },
  {
   "cell_type": "code",
   "execution_count": null,
   "metadata": {},
   "outputs": [],
   "source": [
    "model = LeNet5()\n",
    "model = model.to(device)\n",
    "criterion = nn.CrossEntropyLoss()\n",
    "optimizer = torch.optim.Adam(model.parameters(), lr=1e-3)\n",
    "exp_lr_scheduler = lr_scheduler.StepLR(optimizer, step_size=7, gamma=0.1)"
   ]
  },
  {
   "cell_type": "code",
   "execution_count": null,
   "metadata": {},
   "outputs": [],
   "source": [
    "model_ft = train_model(model, criterion, optimizer, exp_lr_scheduler, num_epochs=25)"
   ]
  },
  {
   "cell_type": "code",
   "execution_count": null,
   "metadata": {},
   "outputs": [],
   "source": [
    "torch.save(model_ft.state_dict(), './trained_model/LeNet_kmnist.pt')"
   ]
  },
  {
   "cell_type": "code",
   "execution_count": null,
   "metadata": {},
   "outputs": [],
   "source": [
    "def accu(model, dataloader):\n",
    "    model = model.eval()\n",
    "    acc = 0\n",
    "    total = 0\n",
    "    for data, target in dataloader:\n",
    "        o = model(data.to(device))[0]\n",
    "        total += target.to(device).size(0)\n",
    "        acc += (o.argmax(dim=1).long() == target.to(device)).sum().item()\n",
    "    return acc / total"
   ]
  },
  {
   "cell_type": "code",
   "execution_count": null,
   "metadata": {},
   "outputs": [],
   "source": [
    "f_mnist_train = datasets.FashionMNIST(\"../data\", train=True, download=True, transform=transforms.ToTensor())\n",
    "f_mnist_test = datasets.FashionMNIST(\"../data\", train=False, download=True, transform=transforms.ToTensor())\n",
    "f_train_loader = DataLoader(f_mnist_train, batch_size = 64, shuffle=True)\n",
    "f_test_loader = DataLoader(f_mnist_test, batch_size = 128, shuffle=False)"
   ]
  },
  {
   "cell_type": "code",
   "execution_count": null,
   "metadata": {},
   "outputs": [],
   "source": [
    "accu(model_ft, f_train_loader)"
   ]
  },
  {
   "cell_type": "code",
   "execution_count": null,
   "metadata": {},
   "outputs": [],
   "source": [
    "accu(model_ft, f_test_loader)"
   ]
  },
  {
   "cell_type": "code",
   "execution_count": null,
   "metadata": {},
   "outputs": [],
   "source": [
    "features = []\n",
    "tags = []\n",
    "with torch.no_grad():\n",
    "    for data in f_train_loader:\n",
    "        images, labels = data\n",
    "        outputs = model_ft(images.to(device))[2]\n",
    "        features.append(outputs.cpu().data.numpy())\n",
    "        tags.append(labels.cpu().data.numpy())\n",
    "\n",
    "train_feature = pd.concat([pd.DataFrame(x) for x in features])\n",
    "train_label = np.concatenate(tags)\n",
    "train_label = pd.Series(train_label)\n",
    "\n",
    "train_feature.to_csv('./processed_data/fmnist_kmnist_train.csv',index=False,header=False)\n",
    "train_label.to_csv('./processed_data/fmnist_kmnist_train_label.csv',index=False,header=False)"
   ]
  },
  {
   "cell_type": "code",
   "execution_count": null,
   "metadata": {},
   "outputs": [],
   "source": [
    "features = []\n",
    "tags = []\n",
    "with torch.no_grad():\n",
    "    for data in f_test_loader:\n",
    "        images, labels = data\n",
    "        outputs = model_ft(images.to(device))[2]\n",
    "        features.append(outputs.cpu().data.numpy())\n",
    "        tags.append(labels.cpu().data.numpy())\n",
    "\n",
    "train_feature = pd.concat([pd.DataFrame(x) for x in features])\n",
    "train_label = np.concatenate(tags)\n",
    "train_label = pd.Series(train_label)\n",
    "\n",
    "train_feature.to_csv('./processed_data/fmnist_kmnist_test.csv',index=False,header=False)\n",
    "train_label.to_csv('./processed_data/fmnist_kmnist_test_label.csv',index=False,header=False)"
   ]
  },
  {
   "cell_type": "code",
   "execution_count": null,
   "metadata": {},
   "outputs": [],
   "source": [
    "mnist_train = datasets.MNIST(\"../data\", train=True, download=True, transform=transforms.ToTensor())\n",
    "mnist_test = datasets.MNIST(\"../data\", train=False, download=True, transform=transforms.ToTensor())\n",
    "train_loader = DataLoader(mnist_train, batch_size = 64, shuffle=False)\n",
    "test_loader = DataLoader(mnist_test, batch_size = 128, shuffle=False)"
   ]
  },
  {
   "cell_type": "code",
   "execution_count": null,
   "metadata": {},
   "outputs": [],
   "source": [
    "accu(model_ft, train_loader)"
   ]
  },
  {
   "cell_type": "code",
   "execution_count": null,
   "metadata": {},
   "outputs": [],
   "source": [
    "accu(model_ft, test_loader)"
   ]
  },
  {
   "cell_type": "code",
   "execution_count": null,
   "metadata": {},
   "outputs": [],
   "source": [
    "features = []\n",
    "tags = []\n",
    "with torch.no_grad():\n",
    "    for data in train_loader:\n",
    "        images, labels = data\n",
    "        outputs = model_ft(images.to(device))[2]\n",
    "        features.append(outputs.cpu().data.numpy())\n",
    "        tags.append(labels.cpu().data.numpy())\n",
    "\n",
    "train_feature = pd.concat([pd.DataFrame(x) for x in features])\n",
    "train_label = np.concatenate(tags)\n",
    "train_label = pd.Series(train_label)\n",
    "\n",
    "train_feature.to_csv('./processed_data/mnist_kmnist_train.csv',index=False,header=False)\n",
    "train_label.to_csv('./processed_data/mnist_kmnist_train_label.csv',index=False,header=False)"
   ]
  },
  {
   "cell_type": "code",
   "execution_count": null,
   "metadata": {},
   "outputs": [],
   "source": [
    "features = []\n",
    "tags = []\n",
    "with torch.no_grad():\n",
    "    for data in test_loader:\n",
    "        images, labels = data\n",
    "        outputs = model_ft(images.to(device))[2]\n",
    "        features.append(outputs.cpu().data.numpy())\n",
    "        tags.append(labels.cpu().data.numpy())\n",
    "\n",
    "train_feature = pd.concat([pd.DataFrame(x) for x in features])\n",
    "train_label = np.concatenate(tags)\n",
    "train_label = pd.Series(train_label)\n",
    "\n",
    "train_feature.to_csv('./processed_data/mnist_kmnist_test.csv',index=False,header=False)\n",
    "train_label.to_csv('./processed_data/mnist_kmnist_test_label.csv',index=False,header=False)"
   ]
  },
  {
   "cell_type": "code",
   "execution_count": null,
   "metadata": {},
   "outputs": [],
   "source": []
  }
 ],
 "metadata": {
  "kernelspec": {
   "display_name": "Python 3",
   "language": "python",
   "name": "python3"
  },
  "language_info": {
   "codemirror_mode": {
    "name": "ipython",
    "version": 3
   },
   "file_extension": ".py",
   "mimetype": "text/x-python",
   "name": "python",
   "nbconvert_exporter": "python",
   "pygments_lexer": "ipython3",
   "version": "3.7.4"
  }
 },
 "nbformat": 4,
 "nbformat_minor": 2
}
