{
 "cells": [
  {
   "cell_type": "code",
   "execution_count": 1,
   "metadata": {},
   "outputs": [],
   "source": [
    "import numpy as np\n",
    "import pandas as pd\n",
    "from matplotlib import pyplot as plt\n",
    "import seaborn as sns\n",
    "from matplotlib import pylab as PP\n",
    "import itertools\n",
    "\n",
    "plt.style.use('ggplot') # change to ggplot style.\n",
    "PP.rc('font', **{'sans-serif':'Arial', 'family':'sans-serif'}) # Uses Arial font for all."
   ]
  },
  {
   "cell_type": "code",
   "execution_count": 2,
   "metadata": {},
   "outputs": [],
   "source": [
    "br1 = pd.read_csv('../brain-inspired-replay/store/plotsprecifar100accuracy_all_tasks_seed_0.txt',header=None)\n",
    "br2 = pd.read_csv('../brain-inspired-replay/store/plotsprecifar100accuracy_all_tasks_seed_1989.txt',header=None)\n",
    "br3 = pd.read_csv('../brain-inspired-replay/store/plotsprecifar100accuracy_all_tasks_seed_1987.txt',header=None)\n",
    "br4 = pd.read_csv('../brain-inspired-replay/store/plotsprecifar100accuracy_all_tasks_seed_2020.txt',header=None)\n",
    "br5 = pd.read_csv('../brain-inspired-replay/store/plotsprecifar100accuracy_all_tasks_seed_5152.txt',header=None)"
   ]
  },
  {
   "cell_type": "code",
   "execution_count": 3,
   "metadata": {},
   "outputs": [],
   "source": [
    "n = br1.shape[1]\n",
    "bir_1 = [np.mean(br1.iloc[:i+1,i]) for i in range(n)]\n",
    "bir_2 = [np.mean(br2.iloc[:i+1,i]) for i in range(n)]\n",
    "bir_3 = [np.mean(br3.iloc[:i+1,i]) for i in range(n)]\n",
    "bir_4 = [np.mean(br4.iloc[:i+1,i]) for i in range(n)]\n",
    "bir_5 = [np.mean(br5.iloc[:i+1,i]) for i in range(n)]"
   ]
  },
  {
   "cell_type": "code",
   "execution_count": 4,
   "metadata": {},
   "outputs": [],
   "source": [
    "bir = pd.DataFrame(\n",
    "{\n",
    "    'bir1':bir_1,\n",
    "    'bir2':bir_2,\n",
    "    'bir3':bir_3,\n",
    "    'bir4':bir_4,\n",
    "    'bir5':bir_5\n",
    "})"
   ]
  },
  {
   "cell_type": "code",
   "execution_count": 5,
   "metadata": {},
   "outputs": [],
   "source": [
    "bir_mean = bir.T.mean()\n",
    "bir_std = bir.T.std()"
   ]
  },
  {
   "cell_type": "code",
   "execution_count": 6,
   "metadata": {},
   "outputs": [],
   "source": [
    "vanilla1 = pd.read_csv('./accuracy/Vanilla_cifar100_resnet18_all_result_lr1e-3_randseed_1.csv',header=None)\n",
    "vanilla2 = pd.read_csv('./accuracy/Vanilla_cifar100_resnet18_all_result_lr1e-3_randseed_2.csv',header=None)\n",
    "vanilla3 = pd.read_csv('./accuracy/Vanilla_cifar100_resnet18_all_result_lr1e-3_randseed_3.csv',header=None)\n",
    "vanilla4 = pd.read_csv('./accuracy/Vanilla_cifar100_resnet18_all_result_lr1e-3_randseed_5.csv',header=None)\n",
    "vanilla5 = pd.read_csv('./accuracy/Vanilla_cifar100_resnet18_all_result_lr1e-3_randseed_8.csv',header=None)"
   ]
  },
  {
   "cell_type": "code",
   "execution_count": 7,
   "metadata": {},
   "outputs": [],
   "source": [
    "n = vanilla1.shape[0]\n",
    "vanilla_1 = [np.mean(vanilla1.iloc[i,:i+1]) for i in range(n)]\n",
    "vanilla_2 = [np.mean(vanilla2.iloc[i,:i+1]) for i in range(n)]\n",
    "vanilla_3 = [np.mean(vanilla3.iloc[i,:i+1]) for i in range(n)]\n",
    "vanilla_4 = [np.mean(vanilla4.iloc[i,:i+1]) for i in range(n)]\n",
    "vanilla_5 = [np.mean(vanilla5.iloc[i,:i+1]) for i in range(n)]"
   ]
  },
  {
   "cell_type": "code",
   "execution_count": 8,
   "metadata": {},
   "outputs": [],
   "source": [
    "vanilla = pd.DataFrame(\n",
    "{\n",
    "    'rand1':vanilla_1,\n",
    "    'rand2':vanilla_2,\n",
    "    'rand3':vanilla_3,\n",
    "    'rand5':vanilla_4,\n",
    "    'rand8':vanilla_5\n",
    "})"
   ]
  },
  {
   "cell_type": "code",
   "execution_count": 9,
   "metadata": {},
   "outputs": [],
   "source": [
    "vanilla_mean = vanilla.T.mean()\n",
    "vanilla_std = vanilla.T.std()"
   ]
  },
  {
   "cell_type": "code",
   "execution_count": 10,
   "metadata": {},
   "outputs": [],
   "source": [
    "fly1 = pd.read_csv('./accuracy/FlyModel_cifar100_resnet18_all_result_lr0.2_randseed_1.csv',header=None)\n",
    "fly2 = pd.read_csv('./accuracy/FlyModel_cifar100_resnet18_all_result_lr0.2_randseed_12.csv',header=None)\n",
    "fly3 = pd.read_csv('./accuracy/FlyModel_cifar100_resnet18_all_result_lr0.2_randseed_21.csv',header=None)\n",
    "fly4 = pd.read_csv('./accuracy/FlyModel_cifar100_resnet18_all_result_lr0.2_randseed_35.csv',header=None)\n",
    "fly5 = pd.read_csv('./accuracy/FlyModel_cifar100_resnet18_all_result_lr0.2_randseed_78.csv',header=None)"
   ]
  },
  {
   "cell_type": "code",
   "execution_count": 11,
   "metadata": {},
   "outputs": [],
   "source": [
    "n = fly1.shape[0]\n",
    "fly_1 = [np.mean(fly1.iloc[i,:i+1]) for i in range(n)]\n",
    "fly_2 = [np.mean(fly2.iloc[i,:i+1]) for i in range(n)]\n",
    "fly_3 = [np.mean(fly3.iloc[i,:i+1]) for i in range(n)]\n",
    "fly_4 = [np.mean(fly4.iloc[i,:i+1]) for i in range(n)]\n",
    "fly_5 = [np.mean(fly5.iloc[i,:i+1]) for i in range(n)]"
   ]
  },
  {
   "cell_type": "code",
   "execution_count": 12,
   "metadata": {},
   "outputs": [],
   "source": [
    "fly = pd.DataFrame(\n",
    "{\n",
    "    'rand1':fly_1,\n",
    "    'rand2':fly_2,\n",
    "    'rand3':fly_3,\n",
    "    'rand5':fly_4,\n",
    "    'rand8':fly_5\n",
    "})"
   ]
  },
  {
   "cell_type": "code",
   "execution_count": 13,
   "metadata": {},
   "outputs": [],
   "source": [
    "fly_mean = fly.T.mean()\n",
    "fly_std = fly.T.std()"
   ]
  },
  {
   "cell_type": "code",
   "execution_count": 14,
   "metadata": {},
   "outputs": [
    {
     "data": {
      "text/plain": [
       "0     0.889500\n",
       "1     0.774250\n",
       "2     0.725667\n",
       "3     0.702875\n",
       "4     0.663500\n",
       "5     0.659083\n",
       "6     0.618643\n",
       "7     0.594812\n",
       "8     0.562667\n",
       "9     0.545100\n",
       "10    0.537500\n",
       "11    0.519750\n",
       "12    0.507615\n",
       "13    0.499964\n",
       "14    0.485400\n",
       "15    0.483687\n",
       "16    0.469000\n",
       "17    0.462250\n",
       "18    0.447158\n",
       "19    0.442200\n",
       "20    0.438000\n",
       "21    0.433455\n",
       "22    0.428130\n",
       "23    0.421917\n",
       "24    0.414320\n",
       "dtype: float64"
      ]
     },
     "execution_count": 14,
     "metadata": {},
     "output_type": "execute_result"
    }
   ],
   "source": [
    "fly_mean"
   ]
  },
  {
   "cell_type": "code",
   "execution_count": 15,
   "metadata": {},
   "outputs": [],
   "source": [
    "gem1 = pd.read_csv('./accuracy/GEM_cifar100_resnet18_all_result_lr1e-3_randseed_1.csv',header=None)\n",
    "gem2 = pd.read_csv('./accuracy/GEM_cifar100_resnet18_all_result_lr1e-3_randseed_2.csv',header=None)\n",
    "gem3 = pd.read_csv('./accuracy/GEM_cifar100_resnet18_all_result_lr1e-3_randseed_3.csv',header=None)\n",
    "gem4 = pd.read_csv('./accuracy/GEM_cifar100_resnet18_all_result_lr1e-3_randseed_5.csv',header=None)\n",
    "gem5 = pd.read_csv('./accuracy/GEM_cifar100_resnet18_all_result_lr1e-3_randseed_8.csv',header=None)\n",
    "\n",
    "n = gem1.shape[0]\n",
    "gem_1 = [np.mean(gem1.iloc[i,:i+1]) for i in range(n)]\n",
    "gem_2 = [np.mean(gem2.iloc[i,:i+1]) for i in range(n)]\n",
    "gem_3 = [np.mean(gem3.iloc[i,:i+1]) for i in range(n)]\n",
    "gem_4 = [np.mean(gem4.iloc[i,:i+1]) for i in range(n)]\n",
    "gem_5 = [np.mean(gem5.iloc[i,:i+1]) for i in range(n)]\n",
    "\n",
    "gem = pd.DataFrame(\n",
    "{\n",
    "    'rand1':gem_1,\n",
    "    'rand2':gem_2,\n",
    "    'rand3':gem_3,\n",
    "    'rand5':gem_4,\n",
    "    'rand8':gem_5\n",
    "})\n",
    "gem_mean = gem.T.mean()\n",
    "gem_std = gem.T.std()"
   ]
  },
  {
   "cell_type": "code",
   "execution_count": 16,
   "metadata": {},
   "outputs": [
    {
     "data": {
      "text/plain": [
       "0     0.873000\n",
       "1     0.690750\n",
       "2     0.635333\n",
       "3     0.565125\n",
       "4     0.524300\n",
       "5     0.523917\n",
       "6     0.488143\n",
       "7     0.465125\n",
       "8     0.433500\n",
       "9     0.411600\n",
       "10    0.409455\n",
       "11    0.388083\n",
       "12    0.373000\n",
       "13    0.369286\n",
       "14    0.357767\n",
       "15    0.351812\n",
       "16    0.337500\n",
       "17    0.324833\n",
       "18    0.309316\n",
       "19    0.296450\n",
       "20    0.287262\n",
       "21    0.280455\n",
       "22    0.273609\n",
       "23    0.267208\n",
       "24    0.262420\n",
       "dtype: float64"
      ]
     },
     "execution_count": 16,
     "metadata": {},
     "output_type": "execute_result"
    }
   ],
   "source": [
    "gem_mean"
   ]
  },
  {
   "cell_type": "code",
   "execution_count": 18,
   "metadata": {},
   "outputs": [],
   "source": [
    "ewc1 = pd.read_csv('./accuracy/EWC_facebook_cifar100_resnet18_all_result_lr1e-3_randseed_1.csv',header=None)\n",
    "ewc2 = pd.read_csv('./accuracy/EWC_facebook_cifar100_resnet18_all_result_lr1e-3_randseed_2.csv',header=None)\n",
    "ewc3 = pd.read_csv('./accuracy/EWC_facebook_cifar100_resnet18_all_result_lr1e-3_randseed_3.csv',header=None)\n",
    "ewc4 = pd.read_csv('./accuracy/EWC_facebook_cifar100_resnet18_all_result_lr1e-3_randseed_5.csv',header=None)\n",
    "ewc5 = pd.read_csv('./accuracy/EWC_facebook_cifar100_resnet18_all_result_lr1e-3_randseed_8.csv',header=None)\n",
    "\n",
    "n = ewc1.shape[0]\n",
    "ewc_1 = [np.mean(ewc1.iloc[i,:i+1]) for i in range(n)]\n",
    "ewc_2 = [np.mean(ewc2.iloc[i,:i+1]) for i in range(n)]\n",
    "ewc_3 = [np.mean(ewc3.iloc[i,:i+1]) for i in range(n)]\n",
    "ewc_4 = [np.mean(ewc4.iloc[i,:i+1]) for i in range(n)]\n",
    "ewc_5 = [np.mean(ewc5.iloc[i,:i+1]) for i in range(n)]\n",
    "\n",
    "ewc = pd.DataFrame(\n",
    "{\n",
    "    'rand1':ewc_1,\n",
    "    'rand2':ewc_2,\n",
    "    'rand3':ewc_3,\n",
    "    'rand5':ewc_4,\n",
    "    'rand8':ewc_5\n",
    "})\n",
    "ewc_mean = ewc.T.mean()\n",
    "ewc_std = ewc.T.std()"
   ]
  },
  {
   "cell_type": "code",
   "execution_count": 19,
   "metadata": {},
   "outputs": [],
   "source": [
    "offline = pd.read_csv('./accuracy/Offline_model_accuracy_cifar100.csv',header=None)"
   ]
  },
  {
   "cell_type": "code",
   "execution_count": 20,
   "metadata": {},
   "outputs": [
    {
     "data": {
      "text/html": [
       "<div>\n",
       "<style scoped>\n",
       "    .dataframe tbody tr th:only-of-type {\n",
       "        vertical-align: middle;\n",
       "    }\n",
       "\n",
       "    .dataframe tbody tr th {\n",
       "        vertical-align: top;\n",
       "    }\n",
       "\n",
       "    .dataframe thead th {\n",
       "        text-align: right;\n",
       "    }\n",
       "</style>\n",
       "<table border=\"1\" class=\"dataframe\">\n",
       "  <thead>\n",
       "    <tr style=\"text-align: right;\">\n",
       "      <th></th>\n",
       "      <th>0</th>\n",
       "    </tr>\n",
       "  </thead>\n",
       "  <tbody>\n",
       "    <tr>\n",
       "      <td>0</td>\n",
       "      <td>0.932500</td>\n",
       "    </tr>\n",
       "    <tr>\n",
       "      <td>1</td>\n",
       "      <td>0.853750</td>\n",
       "    </tr>\n",
       "    <tr>\n",
       "      <td>2</td>\n",
       "      <td>0.799167</td>\n",
       "    </tr>\n",
       "    <tr>\n",
       "      <td>3</td>\n",
       "      <td>0.788125</td>\n",
       "    </tr>\n",
       "    <tr>\n",
       "      <td>4</td>\n",
       "      <td>0.745500</td>\n",
       "    </tr>\n",
       "    <tr>\n",
       "      <td>5</td>\n",
       "      <td>0.745000</td>\n",
       "    </tr>\n",
       "    <tr>\n",
       "      <td>6</td>\n",
       "      <td>0.704286</td>\n",
       "    </tr>\n",
       "    <tr>\n",
       "      <td>7</td>\n",
       "      <td>0.689375</td>\n",
       "    </tr>\n",
       "    <tr>\n",
       "      <td>8</td>\n",
       "      <td>0.657222</td>\n",
       "    </tr>\n",
       "    <tr>\n",
       "      <td>9</td>\n",
       "      <td>0.652250</td>\n",
       "    </tr>\n",
       "    <tr>\n",
       "      <td>10</td>\n",
       "      <td>0.632727</td>\n",
       "    </tr>\n",
       "    <tr>\n",
       "      <td>11</td>\n",
       "      <td>0.620833</td>\n",
       "    </tr>\n",
       "    <tr>\n",
       "      <td>12</td>\n",
       "      <td>0.613077</td>\n",
       "    </tr>\n",
       "    <tr>\n",
       "      <td>13</td>\n",
       "      <td>0.608929</td>\n",
       "    </tr>\n",
       "    <tr>\n",
       "      <td>14</td>\n",
       "      <td>0.600167</td>\n",
       "    </tr>\n",
       "    <tr>\n",
       "      <td>15</td>\n",
       "      <td>0.600781</td>\n",
       "    </tr>\n",
       "    <tr>\n",
       "      <td>16</td>\n",
       "      <td>0.586176</td>\n",
       "    </tr>\n",
       "    <tr>\n",
       "      <td>17</td>\n",
       "      <td>0.579722</td>\n",
       "    </tr>\n",
       "    <tr>\n",
       "      <td>18</td>\n",
       "      <td>0.565526</td>\n",
       "    </tr>\n",
       "    <tr>\n",
       "      <td>19</td>\n",
       "      <td>0.566750</td>\n",
       "    </tr>\n",
       "    <tr>\n",
       "      <td>20</td>\n",
       "      <td>0.560952</td>\n",
       "    </tr>\n",
       "    <tr>\n",
       "      <td>21</td>\n",
       "      <td>0.557500</td>\n",
       "    </tr>\n",
       "    <tr>\n",
       "      <td>22</td>\n",
       "      <td>0.551848</td>\n",
       "    </tr>\n",
       "    <tr>\n",
       "      <td>23</td>\n",
       "      <td>0.548646</td>\n",
       "    </tr>\n",
       "    <tr>\n",
       "      <td>24</td>\n",
       "      <td>0.540500</td>\n",
       "    </tr>\n",
       "  </tbody>\n",
       "</table>\n",
       "</div>"
      ],
      "text/plain": [
       "           0\n",
       "0   0.932500\n",
       "1   0.853750\n",
       "2   0.799167\n",
       "3   0.788125\n",
       "4   0.745500\n",
       "5   0.745000\n",
       "6   0.704286\n",
       "7   0.689375\n",
       "8   0.657222\n",
       "9   0.652250\n",
       "10  0.632727\n",
       "11  0.620833\n",
       "12  0.613077\n",
       "13  0.608929\n",
       "14  0.600167\n",
       "15  0.600781\n",
       "16  0.586176\n",
       "17  0.579722\n",
       "18  0.565526\n",
       "19  0.566750\n",
       "20  0.560952\n",
       "21  0.557500\n",
       "22  0.551848\n",
       "23  0.548646\n",
       "24  0.540500"
      ]
     },
     "execution_count": 20,
     "metadata": {},
     "output_type": "execute_result"
    }
   ],
   "source": [
    "offline"
   ]
  },
  {
   "cell_type": "code",
   "execution_count": 21,
   "metadata": {},
   "outputs": [
    {
     "name": "stderr",
     "output_type": "stream",
     "text": [
      "findfont: Font family ['sans-serif'] not found. Falling back to DejaVu Sans.\n",
      "findfont: Font family ['sans-serif'] not found. Falling back to DejaVu Sans.\n"
     ]
    },
    {
     "data": {
      "image/png": "[encoded data removed]",
      "text/plain": [
       "<Figure size 504x360 with 1 Axes>"
      ]
     },
     "metadata": {
      "needs_background": "light"
     },
     "output_type": "display_data"
    }
   ],
   "source": [
    "plt.figure(figsize=(7,5));\n",
    "#fig,ax = plt.subplots(1,figsize=(7,5));\n",
    "x = np.array(range(1,26))*4\n",
    "plt.plot(x, offline, '--', color='black', alpha=0.7, label='Offline');\n",
    "plt.errorbar(x, fly_mean, yerr=fly_std, color='#E63946',label='Fly Model',marker='.',lw=2,markersize=12);\n",
    "plt.errorbar(x, gem_mean, yerr=gem_std, color='#70C1B3',label='GEM',marker='s',lw=2);\n",
    "plt.errorbar(x, bir_mean, yerr=bir_std, color='#fca311', label='BI-R', ls='-.', marker='*',lw=2);\n",
    "plt.errorbar(x, ewc_mean, yerr=ewc_std, color='#457B9D',label='EWC',marker='>',lw=2);\n",
    "plt.errorbar(x, vanilla_mean, yerr=vanilla_std, color='#1D3557',label='Vanilla',marker='<',lw=2);\n",
    "\n",
    "plt.xlabel('Number of Trained Classes',size=18,color='black');\n",
    "plt.ylabel('Accuracy of Trained Classes',size=18,color='black');\n",
    "plt.xticks((np.arange(0, 101, step=20)), size=14,color='black');\n",
    "plt.yticks(size=14,color='black');\n",
    "plt.ylim(0,1.1);\n",
    "\n",
    "#plt.legend(loc='best',fontsize=16,ncol=2);\n",
    "plt.savefig('../figures/Fig_2C_v2.png',dpi=512);"
   ]
  },
  {
   "cell_type": "code",
   "execution_count": 22,
   "metadata": {},
   "outputs": [],
   "source": [
    "n = fly.shape[0]\n",
    "fly_delta1 = [fly1.iloc[i,i] - fly1.iloc[n-1,i] for i in range(n)]\n",
    "ewc_delta1 = [ewc1.iloc[i,i] - ewc1.iloc[n-1,i] for i in range(n)]\n",
    "gem_delta1 = [gem1.iloc[i,i] - gem1.iloc[n-1,i] for i in range(n)]\n",
    "vanilla_delta1 = [vanilla1.iloc[i,i] - vanilla1.iloc[n-1,i] for i in range(n)]\n",
    "bir_delta1 = [br1.iloc[i,i] - br1.iloc[i,n-1] for i in range(n)]\n",
    "\n",
    "fly_delta2 = [fly2.iloc[i,i] - fly2.iloc[n-1,i] for i in range(n)]\n",
    "ewc_delta2 = [ewc2.iloc[i,i] - ewc2.iloc[n-1,i] for i in range(n)]\n",
    "gem_delta2 = [gem2.iloc[i,i] - gem2.iloc[n-1,i] for i in range(n)]\n",
    "vanilla_delta2 = [vanilla2.iloc[i,i] - vanilla2.iloc[n-1,i] for i in range(n)]\n",
    "bir_delta2 = [br2.iloc[i,i] - br2.iloc[i,n-1] for i in range(n)]\n",
    "\n",
    "fly_delta3 = [fly3.iloc[i,i] - fly3.iloc[n-1,i] for i in range(n)]\n",
    "ewc_delta3 = [ewc3.iloc[i,i] - ewc3.iloc[n-1,i] for i in range(n)]\n",
    "gem_delta3 = [gem3.iloc[i,i] - gem3.iloc[n-1,i] for i in range(n)]\n",
    "vanilla_delta3 = [vanilla3.iloc[i,i] - vanilla3.iloc[n-1,i] for i in range(n)]\n",
    "bir_delta3 = [br3.iloc[i,i] - br3.iloc[i,n-1] for i in range(n)]\n",
    "\n",
    "fly_delta4 = [fly4.iloc[i,i] - fly4.iloc[n-1,i] for i in range(n)]\n",
    "ewc_delta4 = [ewc4.iloc[i,i] - ewc4.iloc[n-1,i] for i in range(n)]\n",
    "gem_delta4 = [gem4.iloc[i,i] - gem4.iloc[n-1,i] for i in range(n)]\n",
    "vanilla_delta4 = [vanilla4.iloc[i,i] - vanilla4.iloc[n-1,i] for i in range(n)]\n",
    "bir_delta4 = [br4.iloc[i,i] - br4.iloc[i,n-1] for i in range(n)]\n",
    "\n",
    "fly_delta5 = [fly5.iloc[i,i] - fly5.iloc[n-1,i] for i in range(n)]\n",
    "ewc_delta5 = [ewc5.iloc[i,i] - ewc5.iloc[n-1,i] for i in range(n)]\n",
    "gem_delta5 = [gem5.iloc[i,i] - gem5.iloc[n-1,i] for i in range(n)]\n",
    "vanilla_delta5 = [vanilla5.iloc[i,i] - vanilla5.iloc[n-1,i] for i in range(n)]\n",
    "bir_delta5 = [br5.iloc[i,i] - br5.iloc[i,n-1] for i in range(n)]"
   ]
  },
  {
   "cell_type": "code",
   "execution_count": 23,
   "metadata": {},
   "outputs": [],
   "source": [
    "fly_delta = pd.DataFrame(\n",
    "{\n",
    "    'rand1':fly_delta1,\n",
    "    'rand2':fly_delta2,\n",
    "    'rand3':fly_delta3,\n",
    "    'rand4':fly_delta4,\n",
    "    'rand5':fly_delta5,\n",
    "})\n",
    "\n",
    "ewc_delta = pd.DataFrame(\n",
    "{\n",
    "    'rand1':ewc_delta1,\n",
    "    'rand2':ewc_delta2,\n",
    "    'rand3':ewc_delta3,\n",
    "    'rand4':ewc_delta4,\n",
    "    'rand5':ewc_delta5,\n",
    "})\n",
    "\n",
    "gem_delta = pd.DataFrame(\n",
    "{\n",
    "    'rand1':gem_delta1,\n",
    "    'rand2':gem_delta2,\n",
    "    'rand3':gem_delta3,\n",
    "    'rand4':gem_delta4,\n",
    "    'rand5':gem_delta5,\n",
    "})\n",
    "\n",
    "vanilla_delta = pd.DataFrame(\n",
    "{\n",
    "    'rand1':vanilla_delta1,\n",
    "    'rand2':vanilla_delta2,\n",
    "    'rand3':vanilla_delta3,\n",
    "    'rand4':vanilla_delta4,\n",
    "    'rand5':vanilla_delta5,\n",
    "})\n",
    "\n",
    "bir_delta = pd.DataFrame(\n",
    "{\n",
    "    'rand1':bir_delta1,\n",
    "    'rand2':bir_delta2,\n",
    "    'rand3':bir_delta3,\n",
    "    'rand4':bir_delta4,\n",
    "    'rand5':bir_delta5,\n",
    "})"
   ]
  },
  {
   "cell_type": "code",
   "execution_count": 24,
   "metadata": {},
   "outputs": [],
   "source": [
    "fly_delta_mean = fly_delta.T.mean()\n",
    "fly_delta_std = fly_delta.T.std()\n",
    "\n",
    "ewc_delta_mean = ewc_delta.T.mean()\n",
    "ewc_delta_std = ewc_delta.T.std()\n",
    "\n",
    "gem_delta_mean = gem_delta.T.mean()\n",
    "gem_delta_std = gem_delta.T.std()\n",
    "\n",
    "vanilla_delta_mean = vanilla_delta.T.mean()\n",
    "vanilla_delta_std = vanilla_delta.T.std()\n",
    "\n",
    "bir_delta_mean = bir_delta.T.mean()\n",
    "bir_delta_std = bir_delta.T.std()"
   ]
  },
  {
   "cell_type": "code",
   "execution_count": 25,
   "metadata": {},
   "outputs": [
    {
     "data": {
      "image/png": "[encoded data removed]",
      "text/plain": [
       "<Figure size 1296x360 with 1 Axes>"
      ]
     },
     "metadata": {
      "needs_background": "light"
     },
     "output_type": "display_data"
    }
   ],
   "source": [
    "barWidth = 0.15\n",
    "plt.figure(figsize=(18,5))\n",
    " \n",
    "# Set position of bar on X axis\n",
    "r1 = np.arange(len(fly_delta_mean)) + 3.5*barWidth\n",
    "r2 = [x - barWidth for x in r1]\n",
    "r3 = [x - barWidth for x in r2]\n",
    "r4 = [x - barWidth for x in r3]\n",
    "r5 = [x - barWidth for x in r4]\n",
    " \n",
    "# Make the plot\n",
    "plt.bar(r1, fly_delta_mean, yerr=fly_delta_std, color='#E63946', width=barWidth, edgecolor='#E63946', label='FlyModel')\n",
    "plt.bar(r3, ewc_delta_mean, yerr=ewc_delta_std, color='#457B9D', width=barWidth, edgecolor='#457B9D', label='EWC')\n",
    "plt.bar(r2, gem_delta_mean, yerr=gem_delta_std, color='#70C1B3', width=barWidth, edgecolor='#70C1B3', label='GEM')\n",
    "plt.bar(r5, vanilla_delta_mean, yerr=vanilla_delta_std, color='#1D3557', width=barWidth, edgecolor='#1D3557', label='Vanilla')\n",
    "plt.bar(r4, bir_delta_mean, yerr=bir_delta_std, color='#fca311', width=barWidth, edgecolor='#fca311', label='BI-R')\n",
    " \n",
    "# Add xticks on the middle of the group bars\n",
    "plt.xlabel('Task Number', size=18, color='black')\n",
    "plt.ylabel('Memory Loss', size=18, color='black')\n",
    "plt.xticks([r + 1.5*barWidth for r in range(len(fly_delta_mean))], list(range(1,26)), size=14, color='black')\n",
    "plt.yticks(size=14, color='black')\n",
    "#plt.ylim(0,1)\n",
    " \n",
    "# Create legend & Show graphic\n",
    "#plt.legend(loc='best',fontsize=16)\n",
    "plt.xlim(-0.5,25);\n",
    "#plt.show()\n",
    "#plt.savefig('../figures/Fig_S1B.png',dpi=512);"
   ]
  },
  {
   "cell_type": "code",
   "execution_count": 26,
   "metadata": {},
   "outputs": [],
   "source": [
    "fly_select = list(fly_delta_mean.values[i] for i in [0,4,9,14,19,24])\n",
    "ewc_select = list(ewc_delta_mean.values[i] for i in [0,4,9,14,19,24])\n",
    "gem_select = list(gem_delta_mean.values[i] for i in [0,4,9,14,19,24])\n",
    "vanilla_select = list(vanilla_delta_mean.values[i] for i in [0,4,9,14,19,24])\n",
    "bir_select = list(bir_delta_mean.values[i] for i in [0,4,9,14,19,24])\n",
    "\n",
    "fly_select_std = list(fly_delta_std.values[i] for i in [0,4,9,14,19,24])\n",
    "ewc_select_std = list(ewc_delta_std.values[i] for i in [0,4,9,14,19,24])\n",
    "gem_select_std = list(gem_delta_std.values[i] for i in [0,4,9,14,19,24])\n",
    "vanilla_select_std = list(vanilla_delta_std.values[i] for i in [0,4,9,14,19,24])\n",
    "bir_select_std = list(bir_delta_std.values[i] for i in [0,4,9,14,19,24])"
   ]
  },
  {
   "cell_type": "code",
   "execution_count": 27,
   "metadata": {},
   "outputs": [
    {
     "data": {
      "image/png": "[encoded data removed]",
      "text/plain": [
       "<Figure size 576x360 with 1 Axes>"
      ]
     },
     "metadata": {
      "needs_background": "light"
     },
     "output_type": "display_data"
    }
   ],
   "source": [
    "barWidth = 0.15\n",
    "plt.figure(figsize=(8,5))\n",
    " \n",
    "# Set position of bar on X axis\n",
    "r1 = np.arange(len(fly_select)) + 3.5*barWidth\n",
    "r2 = [x - barWidth for x in r1]\n",
    "r3 = [x - barWidth for x in r2]\n",
    "r4 = [x - barWidth for x in r3]\n",
    "r5 = [x - barWidth for x in r4]\n",
    " \n",
    "# Make the plot\n",
    "plt.bar(r1, fly_select, yerr=fly_select_std, color='#E63946', width=barWidth, edgecolor='#E63946', label='FlyModel')\n",
    "plt.bar(r3, ewc_select, yerr=ewc_select_std, color='#457B9D', width=barWidth, edgecolor='#457B9D', label='EWC')\n",
    "plt.bar(r2, gem_select, yerr=gem_select_std, color='#70C1B3', width=barWidth, edgecolor='#70C1B3', label='GEM')\n",
    "plt.bar(r4, bir_select, yerr=bir_select_std, color='#fca311', width=barWidth, edgecolor='#fca311', label='BI-R')\n",
    "plt.bar(r5, vanilla_select, yerr=vanilla_select_std, color='#1D3557', width=barWidth, edgecolor='#1D3557', label='Vanilla')\n",
    " \n",
    "# Add xticks on the middle of the group bars\n",
    "plt.xlabel('Task Number', size=18, color='black')\n",
    "plt.ylabel('Memory Loss', size=18, color='black')\n",
    "plt.xticks([r + 1.5*barWidth for r in range(len(fly_select))], ['1','5','10','15','20','25'], size=14, color='black')\n",
    "plt.yticks(size=14, color='black')\n",
    "plt.ylim(-0.25,1.05)\n",
    "plt.xlim(-0.5,6.5)\n",
    " \n",
    "# Create legend & Show graphic\n",
    "plt.legend(loc='best',fontsize=16,ncol=1)\n",
    "#plt.show()\n",
    "#plt.savefig('../figures/Fig_2D.png',dpi=512);"
   ]
  },
  {
   "cell_type": "code",
   "execution_count": 28,
   "metadata": {},
   "outputs": [],
   "source": [
    "new_fly_delta = [(offline.values[i]-fly_mean.values[i])[0] for i in range(len(fly_mean.values))]\n",
    "new_ewc_delta = [(offline.values[i]-ewc_mean.values[i])[0] for i in range(len(fly_mean.values))]\n",
    "new_gem_delta = [(offline.values[i]-gem_mean.values[i])[0] for i in range(len(fly_mean.values))]\n",
    "new_vanilla_delta = [(offline.values[i]-vanilla_mean.values[i])[0] for i in range(len(fly_mean.values))]"
   ]
  },
  {
   "cell_type": "code",
   "execution_count": 29,
   "metadata": {},
   "outputs": [
    {
     "data": {
      "image/png": "[encoded data removed]",
      "text/plain": [
       "<Figure size 1080x360 with 1 Axes>"
      ]
     },
     "metadata": {
      "needs_background": "light"
     },
     "output_type": "display_data"
    }
   ],
   "source": [
    "barWidth = 0.2\n",
    "plt.figure(figsize=(15,5))\n",
    " \n",
    "# Set position of bar on X axis\n",
    "r1 = np.arange(len(fly_delta_mean))\n",
    "r2 = [x + barWidth for x in r1]\n",
    "r3 = [x + barWidth for x in r2]\n",
    "r4 = [x + barWidth for x in r3]\n",
    " \n",
    "# Make the plot\n",
    "plt.bar(r1, new_fly_delta, color='#E63946', width=barWidth, edgecolor='#E63946', label='FlyModel')\n",
    "plt.bar(r2, new_ewc_delta, color='#457B9D', width=barWidth, edgecolor='#457B9D', label='EWC')\n",
    "plt.bar(r3, new_gem_delta, color='#70C1B3', width=barWidth, edgecolor='#70C1B3', label='GEM')\n",
    "plt.bar(r4, new_vanilla_delta, color='#1D3557', width=barWidth, edgecolor='#1D3557', label='Vanilla')\n",
    " \n",
    "# Add xticks on the middle of the group bars\n",
    "plt.xlabel('Task Number', size=16, color='black')\n",
    "plt.ylabel('Accuracy drop compared to offline model', size=16, color='black')\n",
    "plt.xticks([r + 1.5*barWidth for r in range(len(fly_delta_mean))], list(range(1,26)), size=14, color='black')\n",
    "plt.yticks(size=14, color='black')\n",
    "#plt.ylim(0,1)\n",
    " \n",
    "# Create legend & Show graphic\n",
    "plt.legend(loc='best',fontsize=16)\n",
    "plt.show()"
   ]
  },
  {
   "cell_type": "code",
   "execution_count": null,
   "metadata": {},
   "outputs": [],
   "source": []
  }
 ],
 "metadata": {
  "kernelspec": {
   "display_name": "Python 3.6.9 64-bit",
   "language": "python",
   "name": "python3"
  },
  "language_info": {
   "codemirror_mode": {
    "name": "ipython",
    "version": 3
   },
   "file_extension": ".py",
   "mimetype": "text/x-python",
   "name": "python",
   "nbconvert_exporter": "python",
   "pygments_lexer": "ipython3",
   "version": "3.6.9"
  },
  "vscode": {
   "interpreter": {
    "hash": "31f2aee4e71d21fbe5cf8b01ff0e069b9275f58929596ceb00d14d90e3e16cd6"
   }
  }
 },
 "nbformat": 4,
 "nbformat_minor": 4
}
