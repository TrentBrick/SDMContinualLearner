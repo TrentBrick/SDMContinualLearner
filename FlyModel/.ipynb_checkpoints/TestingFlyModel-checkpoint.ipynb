{
 "cells": [
  {
   "cell_type": "code",
   "execution_count": 1,
   "metadata": {},
   "outputs": [],
   "source": [
    "import numpy as np\n",
    "import pandas as pd\n",
    "import seaborn as sns\n",
    "from sklearn.preprocessing import minmax_scale\n",
    "import matplotlib.pyplot as plt\n",
    "import sys\n",
    "import warnings\n",
    "import matplotlib.pyplot as plt\n",
    "import random\n",
    "warnings.filterwarnings('ignore')"
   ]
  },
  {
   "cell_type": "code",
   "execution_count": 10,
   "metadata": {},
   "outputs": [
    {
     "data": {
      "text/plain": [
       "'/Users/trentonbricken/AnonPaper1/FlyModel'"
      ]
     },
     "execution_count": 10,
     "metadata": {},
     "output_type": "execute_result"
    }
   ],
   "source": [
    "pwd"
   ]
  },
  {
   "cell_type": "code",
   "execution_count": 2,
   "metadata": {},
   "outputs": [],
   "source": [
    "def split_data(data, labels, split):\n",
    "    from collections import Counter\n",
    "    distinct_labels = list(Counter(labels).keys())\n",
    "    n_labels = len(distinct_labels)\n",
    "    n_split = int(n_labels/split)\n",
    "    trans = data.T\n",
    "    trans.columns = labels\n",
    "    datasets = {}\n",
    "    datalabels = {}\n",
    "    for i in range(n_split):\n",
    "        cond1 = trans.columns.values >= i*split\n",
    "        cond2 = trans.columns.values < (i+1)*split\n",
    "        out = trans.iloc[:,cond1&cond2]\n",
    "        out_label = out.columns.values\n",
    "        datasets[i] = out.T\n",
    "        datalabels[i] = out_label\n",
    "    return (datasets, datalabels)"
   ]
  },
  {
   "cell_type": "code",
   "execution_count": 3,
   "metadata": {},
   "outputs": [],
   "source": [
    "def generate_transformation_matrix(n_kc,n_orn,n_response,seed):\n",
    "    R = np.zeros((n_kc, n_orn))\n",
    "    for i in range(n_kc):\n",
    "        random.seed(seed+i)\n",
    "        np.random.seed(seed+i)\n",
    "        R[i,random.sample(list(range(n_orn)), n_response)] = 1\n",
    "    return R\n",
    "\n",
    "def get_KC(p,R,thresh):\n",
    "    '''\n",
    "    odor: a vector of ORN responses for a given odor\n",
    "    w: inhibitory synaptic strength from LN to PN\n",
    "    R: random linear transformation matrix from PN to KC\n",
    "    thresh: rectlinear threshold for KC activation\n",
    "    '''\n",
    "    KC = np.matmul(R,p)\n",
    "    KC[KC<=thresh] = 0\n",
    "    threshold = np.quantile(KC,0.99) # this is the topK operation. keeps 1% active. \n",
    "    KC[KC<threshold] = 0\n",
    "    KC = KC/np.max(KC) # renorm of the KC values here. \n",
    "    #KC[KC>0] = 1\n",
    "    return KC"
   ]
  },
  {
   "cell_type": "code",
   "execution_count": 4,
   "metadata": {},
   "outputs": [],
   "source": [
    "def train(data, label, lr, n_class, shift):\n",
    "    from collections import Counter\n",
    "    weights = np.zeros([n_class,n_kc])#*10.0\n",
    "    kcs = np.array([get_KC(np.array(data.iloc[i,:]),R,thresh) for i in range(data.shape[0])])\n",
    "    distinct_label = np.sort(list(Counter(label).keys()))\n",
    "    if len(distinct_label) != n_class:\n",
    "        raise ValueError('Number of classes to be trained does not match!!!')\n",
    "    for i in range(n_class):\n",
    "        sum_kc = np.sum(kcs[np.array(label==distinct_label[i])],axis=0)\n",
    "        weights[distinct_label[i]-shift] += lr*sum_kc\n",
    "        #weights[weights<0] = 0\n",
    "        weights[weights>1] = 1\n",
    "    return weights"
   ]
  },
  {
   "cell_type": "code",
   "execution_count": 5,
   "metadata": {},
   "outputs": [],
   "source": [
    "def accu(weights, data, label):\n",
    "    kcs = [get_KC(np.array(data.iloc[i,:]),R,thresh) for i in range(data.shape[0])]\n",
    "    kcs = np.array(kcs)\n",
    "    result = np.matmul(weights, kcs.T)\n",
    "    pred = np.argmax(result, axis=0)\n",
    "    return np.sum(pred==label)/len(label)"
   ]
  },
  {
   "cell_type": "markdown",
   "metadata": {},
   "source": [
    "train_data = pd.read_csv('./processed_data/cifar100_train_resnet18.csv',header=None)\n",
    "train_label = pd.read_csv('./processed_data/cifar100_train_label_resnet18.csv',header=None)\n",
    "train_label = [train_label.values[i][0] for i in range(train_label.shape[0])]\n",
    "test = pd.read_csv('./processed_data/cifar100_test_resnet18.csv',header=None)\n",
    "test_label = pd.read_csv('./processed_data/cifar100_test_label_resnet18.csv',header=None)\n",
    "test_label = [test_label.values[i][0] for i in range(test_label.shape[0])]"
   ]
  },
  {
   "cell_type": "markdown",
   "metadata": {},
   "source": [
    "train_data = pd.DataFrame(minmax_scale(train_data,axis=1))\n",
    "test = pd.DataFrame(minmax_scale(test,axis=1))"
   ]
  },
  {
   "cell_type": "markdown",
   "metadata": {},
   "source": [
    "train_datasets, train_labels = split_data(train_data, train_label, 4)\n",
    "test_datasets, test_labels = split_data(test, test_label, 4)"
   ]
  },
  {
   "cell_type": "code",
   "execution_count": 17,
   "metadata": {},
   "outputs": [],
   "source": [
    "import torch\n",
    "\n",
    "def load_my_dataset(seed_ind, min_max_scale=True):\n",
    "    \n",
    "    train_datasets = dict()\n",
    "    train_labels = dict()\n",
    "\n",
    "    test_datasets = dict()\n",
    "    test_labels = dict()\n",
    "    \n",
    "    seed_ind_map = {1:3, 2:15, 3:27 , 4:97}\n",
    "    \n",
    "    if seed_ind==0:\n",
    "        file_suffix = \"\"\n",
    "    else: \n",
    "        file_suffix = f\"_RandSeed_{seed_ind_map[seed_ind]}\"\n",
    "\n",
    "    for train_o_test in ['train', 'test']:\n",
    "\n",
    "        if train_o_test == 'train':\n",
    "            ddict, ldict = train_datasets, train_labels\n",
    "        else: \n",
    "            ddict, ldict = test_datasets, test_labels\n",
    "\n",
    "        for ind in range(n_task):\n",
    "            fname = f\"data/{dataset_path}{file_suffix}/split_{train_o_test}_{ind}.pt\"\n",
    "            d, l = torch.load(fname)\n",
    "            \n",
    "            if \"MNIST\" in dataset_name:\n",
    "                d = d.type(torch.float)\n",
    "                d = d.flatten(start_dim=1)\n",
    "                \n",
    "\n",
    "            if d.dtype is torch.uint8:\n",
    "                # more efficient form of storage\n",
    "                d = d.type(torch.float)/255\n",
    "\n",
    "            d,l= d.numpy(), l.numpy()\n",
    "            if min_max_scale:\n",
    "                d = minmax_scale(d,axis=1)\n",
    "            ddict[ind] = pd.DataFrame(d)\n",
    "            \n",
    "            unique_labels = np.sort(np.unique(l))\n",
    "            # assuming there are always 2 per class here\n",
    "            assert classes_per_split==2, \"this code will not work otherwise.\"\n",
    "            l1_mask = l==unique_labels[0]\n",
    "            l2_mask = l==unique_labels[1]\n",
    "            l[l1_mask]=(ind*2)\n",
    "            l[l2_mask]=(ind*2)+1\n",
    "            \n",
    "            ldict[ind] = l\n",
    "            \n",
    "    return train_datasets, train_labels, test_datasets, test_labels\n"
   ]
  },
  {
   "cell_type": "code",
   "execution_count": 68,
   "metadata": {},
   "outputs": [],
   "source": [
    "dataset_name = \"MNIST\"\n",
    "\n",
    "n_kc = 10000 #10000 #20000\n",
    "#512\n",
    "n_response = 32 #32 #64 # approx 10% of the ORNs\n",
    "seeds = [1,12,21,35,78]\n",
    "thresh = 0\n",
    "only_one_seed = False\n",
    "if dataset_name==\"CIFAR100\":\n",
    "    n_orn = 256\n",
    "    n_task = 50 #25\n",
    "    seeds = seeds[:3]\n",
    "    dataset_path=f\"ConvMixerWTransforms_ImgNet32_{dataset_name}\"\n",
    "elif dataset_name==\"CIFAR10\":\n",
    "    n_orn = 256\n",
    "    n_task = 5\n",
    "    dataset_path=f\"ConvMixerWTransforms_ImgNet32_{dataset_name}\"\n",
    "elif dataset_name==\"MNIST\":\n",
    "    n_orn = 784\n",
    "    n_task = 5\n",
    "    dataset_path=f\"{dataset_name}\"\n",
    "    only_one_seed = True\n",
    "    seeds=[1]\n",
    "elif dataset_name==\"FashionMNIST\":\n",
    "    n_orn = 784\n",
    "    n_task = 5\n",
    "    dataset_path=f\"{dataset_name}\"\n",
    "    only_one_seed = True\n",
    "    seeds=[1]\n",
    "else: \n",
    "    raise Exception()\n",
    "lr = 0.005 # 0.01 #0.2\n",
    "classes_per_split = 2\n",
    "\n",
    "min_max_scale = True"
   ]
  },
  {
   "cell_type": "code",
   "execution_count": 69,
   "metadata": {},
   "outputs": [
    {
     "name": "stdout",
     "output_type": "stream",
     "text": [
      "loop 1 done! accuracy here: 0.19952718676122932\n",
      "loop 2 done! accuracy here: 0.38720333979341626\n",
      "loop 3 done! accuracy here: 0.5647427548605494\n",
      "loop 4 done! accuracy here: 0.7433792401346604\n",
      "loop 5 done! accuracy here: 0.8915778460062544\n",
      "[0.19952718676122932, 0.38720333979341626, 0.5647427548605494, 0.7433792401346604, 0.8915778460062544]\n",
      "final performance 0.8915778460062544\n"
     ]
    }
   ],
   "source": [
    "for seed_ind, seed in enumerate(seeds): # seed ind is used for the dataset. \n",
    "    if only_one_seed: \n",
    "        seed_ind=0\n",
    "    train_datasets, train_labels, test_datasets, test_labels = load_my_dataset(seed_ind, min_max_scale=min_max_scale)\n",
    "    R = generate_transformation_matrix(n_kc,n_orn,n_response,seed)\n",
    "    accuracy = np.zeros([n_task, n_task])\n",
    "    trained_weights = {}\n",
    "    for i in range(n_task):\n",
    "        trained_weights[i] = train(train_datasets[i], train_labels[i], lr, classes_per_split, i*classes_per_split)\n",
    "\n",
    "        weights_to_test = np.concatenate([trained_weights[j] for j in range(i+1)])\n",
    "\n",
    "        for j in range(i+1):\n",
    "            # checking forgetting for each of them. \n",
    "            accuracy[i,j] = accu(weights_to_test,test_datasets[j],test_labels[j])\n",
    "\n",
    "        print('loop '+str(i+1)+' done! accuracy here:', np.mean(accuracy[i,:]))\n",
    "        \n",
    "    accuracy = pd.DataFrame(accuracy)\n",
    "    accuracy.to_csv(f'./accuracy/FlyModel_{dataset_name}_convMixer_lr_{lr}_randseed_{seed}_nkc={n_kc}_nresp={n_response}_minmax={min_max_scale}.csv',index=False,header=False)\n",
    "    \n",
    "    final_res = [np.mean(accuracy.iloc[i,:]) for i in range(n_task)]\n",
    "    print(final_res)\n",
    "    print('final performance', final_res[-1])"
   ]
  },
  {
   "cell_type": "code",
   "execution_count": null,
   "metadata": {},
   "outputs": [],
   "source": []
  },
  {
   "cell_type": "code",
   "execution_count": null,
   "metadata": {},
   "outputs": [],
   "source": [
    "# analyze the data runs: "
   ]
  },
  {
   "cell_type": "code",
   "execution_count": 148,
   "metadata": {},
   "outputs": [
    {
     "name": "stdout",
     "output_type": "stream",
     "text": [
      "Number of seeds 3\n",
      "[0.0197, 0.0387, 0.0541, 0.0709, 0.08929999999999999, 0.10220000000000001, 0.11969999999999999, 0.1335, 0.149, 0.16210000000000002, 0.177, 0.1919, 0.2027, 0.2155, 0.22800000000000004, 0.23980000000000004, 0.25190000000000007, 0.2602, 0.2723, 0.28550000000000003, 0.29730000000000006, 0.3089, 0.3146999999999999, 0.3235, 0.3379, 0.3453, 0.35730000000000006, 0.3678, 0.3761, 0.3863000000000001, 0.39710000000000006, 0.40840000000000004, 0.41489999999999994, 0.4247000000000001, 0.4396000000000001, 0.4488999999999999, 0.45360000000000006, 0.4610000000000001, 0.47290000000000015, 0.48470000000000013, 0.49250000000000005, 0.5043000000000001, 0.5146, 0.5262, 0.5382000000000001, 0.5499, 0.5549000000000001, 0.5669, 0.5731, 0.5801000000000001]\n",
      "final performance 0.5801000000000001\n",
      "[0.0169, 0.034, 0.0535, 0.0716, 0.08800000000000001, 0.1038, 0.11919999999999999, 0.13290000000000002, 0.14859999999999998, 0.1594, 0.1722, 0.1858, 0.2006, 0.21330000000000002, 0.2195, 0.22990000000000002, 0.24340000000000003, 0.25370000000000004, 0.2678, 0.2759, 0.2881, 0.2953, 0.3085, 0.32249999999999995, 0.33169999999999994, 0.3446999999999999, 0.35489999999999994, 0.36739999999999995, 0.37660000000000005, 0.3852999999999999, 0.39339999999999997, 0.4050999999999999, 0.4172999999999999, 0.42969999999999997, 0.4383000000000001, 0.4495, 0.45959999999999995, 0.4719, 0.48190000000000005, 0.4905000000000001, 0.4981999999999999, 0.5065000000000002, 0.517, 0.5249, 0.5359, 0.5459, 0.5523, 0.5638000000000001, 0.5711000000000002, 0.5798000000000002]\n",
      "final performance 0.5798000000000002\n",
      "[0.0195, 0.037000000000000005, 0.05430000000000001, 0.06849999999999999, 0.08070000000000001, 0.0973, 0.11460000000000001, 0.1304, 0.1465, 0.16190000000000002, 0.17240000000000003, 0.1818, 0.1957, 0.20919999999999997, 0.2212, 0.23759999999999998, 0.2505, 0.2625, 0.272, 0.2826, 0.2944, 0.3017, 0.31679999999999997, 0.32550000000000007, 0.33970000000000006, 0.34930000000000005, 0.3597000000000001, 0.36630000000000007, 0.3729, 0.37740000000000007, 0.3881, 0.4003, 0.4136000000000001, 0.4182000000000001, 0.42760000000000004, 0.4381999999999999, 0.4503999999999999, 0.45929999999999993, 0.4718, 0.4805, 0.4943999999999999, 0.5064, 0.5131, 0.5229, 0.5327000000000001, 0.5427000000000001, 0.5539, 0.5619999999999998, 0.5708999999999999, 0.5781999999999999]\n",
      "final performance 0.5781999999999999\n",
      "==========\n",
      "[0.0187     0.03656667 0.05396667 0.07033333 0.086      0.1011\n",
      " 0.11783333 0.13226667 0.14803333 0.16113333 0.17386667 0.1865\n",
      " 0.19966667 0.21266667 0.2229     0.23576667 0.2486     0.2588\n",
      " 0.2707     0.28133333 0.29326667 0.30196667 0.31333333 0.32383333\n",
      " 0.33643333 0.34643333 0.3573     0.36716667 0.3752     0.383\n",
      " 0.39286667 0.4046     0.41526667 0.4242     0.43516667 0.44553333\n",
      " 0.45453333 0.46406667 0.47553333 0.48523333 0.49503333 0.50573333\n",
      " 0.5149     0.52466667 0.5356     0.54616667 0.5537     0.56423333\n",
      " 0.5717     0.57936667]\n",
      "0.5793666666666667\n"
     ]
    }
   ],
   "source": [
    "dataset_name = \"CIFAR100\"\n",
    "\n",
    "n_kc = 10000#20000\n",
    "#512\n",
    "n_response = 32#32 #64 # approx 10% of the ORNs\n",
    "seeds = [1,12,21,35,78]\n",
    "\n",
    "if dataset_name==\"CIFAR100\":\n",
    "    n_orn = 256\n",
    "    n_task = 50 #25\n",
    "    dataset_path=f\"ConvMixerWTransforms_ImgNet32_{dataset_name}\"\n",
    "    seeds = seeds[:3]\n",
    "    nsteps = 500\n",
    "    \n",
    "elif dataset_name==\"CIFAR10\":\n",
    "    n_orn = 256\n",
    "    n_task = 5\n",
    "    nsteps = 500\n",
    "    dataset_path=f\"ConvMixerWTransforms_ImgNet32_{dataset_name}\"\n",
    "elif dataset_name==\"MNIST\":\n",
    "    n_orn = 784\n",
    "    n_task = 5\n",
    "    nsteps = None\n",
    "    dataset_path=f\"{dataset_name}\"\n",
    "    seeds = [seeds[0]]\n",
    "    \n",
    "print(\"Number of seeds\", len(seeds))\n",
    "\n",
    "lr = 0.2\n",
    "classes_per_split = 2\n",
    "\n",
    "min_max_scale = True\n",
    "\n",
    "seed_accs = np.zeros([len(seeds), n_task])\n",
    "t1_accs = np.zeros([len(seeds), n_task])\n",
    "for sind, seed in enumerate(seeds):\n",
    "    \n",
    "    accuracy = pd.read_csv(f\"accuracy/FlyModel_{dataset_name}_convMixer_lr_{lr}_randseed_{seed}_nkc={n_kc}_nresp={n_response}_minmax={min_max_scale}.csv\",header=None)\n",
    "    final_res = [np.mean(accuracy.iloc[i,:]) for i in range(n_task)]\n",
    "    t1_accs[sind] = accuracy[0]\n",
    "    print(final_res)\n",
    "    print('final performance', final_res[-1])\n",
    "    seed_accs[sind] = final_res\n",
    "print(\"==========\")\n",
    "print(seed_accs.mean(axis=0))\n",
    "print(seed_accs.mean(axis=0)[-1])"
   ]
  },
  {
   "cell_type": "code",
   "execution_count": 149,
   "metadata": {},
   "outputs": [
    {
     "data": {
      "text/plain": [
       "25000"
      ]
     },
     "execution_count": 149,
     "metadata": {},
     "output_type": "execute_result"
    }
   ],
   "source": [
    "source = t1_accs # t1_accs #seed_accs\n",
    "mu = source.mean(axis=0)\n",
    "std = source.std(axis=0)\n",
    "\n",
    "line = []\n",
    "std_line = []\n",
    "for n in range(n_task):\n",
    "    line += [mu[n]]*nsteps\n",
    "    std_line += [std[n]]*nsteps\n",
    "len(line)"
   ]
  },
  {
   "cell_type": "code",
   "execution_count": 150,
   "metadata": {},
   "outputs": [
    {
     "data": {
      "text/plain": [
       "array([0.935     , 0.89833333, 0.88666667, 0.87333333, 0.86833333,\n",
       "       0.83666667, 0.83166667, 0.815     , 0.81      , 0.78666667,\n",
       "       0.76      , 0.74333333, 0.735     , 0.72666667, 0.72166667,\n",
       "       0.715     , 0.71333333, 0.70833333, 0.69      , 0.67666667,\n",
       "       0.67      , 0.67      , 0.66      , 0.65      , 0.64833333,\n",
       "       0.64      , 0.63333333, 0.63      , 0.595     , 0.59166667,\n",
       "       0.59166667, 0.58166667, 0.58      , 0.56166667, 0.56      ,\n",
       "       0.56      , 0.55833333, 0.55833333, 0.55666667, 0.55166667,\n",
       "       0.55166667, 0.54      , 0.54      , 0.53833333, 0.53833333,\n",
       "       0.535     , 0.53      , 0.53      , 0.52666667, 0.52666667])"
      ]
     },
     "execution_count": 150,
     "metadata": {},
     "output_type": "execute_result"
    }
   ],
   "source": [
    "mu"
   ]
  },
  {
   "cell_type": "code",
   "execution_count": 151,
   "metadata": {},
   "outputs": [
    {
     "data": {
      "image/png": "[encoded data removed]",
      "text/plain": [
       "<Figure size 1332x756 with 1 Axes>"
      ]
     },
     "metadata": {
      "needs_background": "light"
     },
     "output_type": "display_data"
    }
   ],
   "source": [
    "fig = plt.gcf()\n",
    "fig.set_size_inches(18.5, 10.5)\n",
    "plt.plot(np.arange(nsteps*n_task), line, linewidth=7)\n",
    "plt.ylim(0,1.0)\n",
    "plt.show()"
   ]
  },
  {
   "cell_type": "code",
   "execution_count": 140,
   "metadata": {},
   "outputs": [
    {
     "data": {
      "image/png": "[encoded data removed]",
      "text/plain": [
       "<Figure size 1332x756 with 1 Axes>"
      ]
     },
     "metadata": {
      "needs_background": "light"
     },
     "output_type": "display_data"
    }
   ],
   "source": [
    "fig = plt.gcf()\n",
    "fig.set_size_inches(18.5, 10.5)\n",
    "plt.errorbar(np.arange(nsteps*n_task), line, yerr=std_line)\n",
    "plt.ylim(0,1.0)\n",
    "plt.show()"
   ]
  },
  {
   "cell_type": "code",
   "execution_count": 109,
   "metadata": {},
   "outputs": [
    {
     "name": "stdout",
     "output_type": "stream",
     "text": [
      "FlyModel_CIFAR100_convMixer_lr_0.2_randseed_12_nkc=10000_nresp=32_minmax=True.csv\n",
      "FlyModel_CIFAR100_convMixer_lr_0.2_randseed_12_nkc=1000_nresp=32_minmax=True.csv\n",
      "FlyModel_CIFAR100_convMixer_lr_0.2_randseed_12_nkc=1000_nresp=3_minmax=True.csv\n",
      "FlyModel_CIFAR100_convMixer_lr_0.2_randseed_1_nkc=10000_nresp=32_minmax=True.csv\n",
      "FlyModel_CIFAR100_convMixer_lr_0.2_randseed_1_nkc=1000_nresp=3_minmax=True.csv\n",
      "FlyModel_CIFAR100_convMixer_lr_0.2_randseed_21_nkc=10000_nresp=32_minmax=True.csv\n",
      "FlyModel_CIFAR100_convMixer_lr_0.2_randseed_21_nkc=1000_nresp=32_minmax=True.csv\n",
      "FlyModel_CIFAR100_convMixer_lr_0.2_randseed_21_nkc=1000_nresp=3_minmax=True.csv\n",
      "FlyModel_CIFAR100_convMixer_lr_0.2_randseed_35_nkc=10000_nresp=32_minmax=True.csv\n",
      "FlyModel_CIFAR100_convMixer_lr_0.2_randseed_35_nkc=1000_nresp=32_minmax=True.csv\n",
      "FlyModel_CIFAR100_convMixer_lr_0.2_randseed_35_nkc=1000_nresp=3_minmax=True.csv\n",
      "FlyModel_CIFAR100_convMixer_lr_0.2_randseed_78_nkc=10000_nresp=32_minmax=True.csv\n",
      "FlyModel_CIFAR100_convMixer_lr_0.2_randseed_78_nkc=1000_nresp=32_minmax=True.csv\n",
      "FlyModel_CIFAR100_convMixer_lr_0.2_randseed_78_nkc=1000_nresp=3_minmax=True.csv\n",
      "FlyModel_CIFAR10_convMixer_lr_0.1_randseed_1_nkc=1000_nresp=32_minmax=True.csv\n",
      "FlyModel_CIFAR10_convMixer_lr_0.2_randseed_12_nkc=10000_nresp=32_minmax=True.csv\n",
      "FlyModel_CIFAR10_convMixer_lr_0.2_randseed_12_nkc=1000_nresp=32_minmax=True.csv\n",
      "FlyModel_CIFAR10_convMixer_lr_0.2_randseed_12_nkc=1000_nresp=3_minmax=True.csv\n",
      "FlyModel_CIFAR10_convMixer_lr_0.2_randseed_1_nkc=10000_nresp=32_minmax=True.csv\n",
      "FlyModel_CIFAR10_convMixer_lr_0.2_randseed_1_nkc=1000_nresp=32_minmax=True.csv\n",
      "FlyModel_CIFAR10_convMixer_lr_0.2_randseed_1_nkc=1000_nresp=3_minmax=True.csv\n",
      "FlyModel_CIFAR10_convMixer_lr_0.2_randseed_1_nkc=20000_nresp=64_minmax=True.csv\n",
      "FlyModel_CIFAR10_convMixer_lr_0.2_randseed_21_nkc=10000_nresp=32_minmax=True.csv\n",
      "FlyModel_CIFAR10_convMixer_lr_0.2_randseed_21_nkc=1000_nresp=32_minmax=True.csv\n",
      "FlyModel_CIFAR10_convMixer_lr_0.2_randseed_21_nkc=1000_nresp=3_minmax=True.csv\n",
      "FlyModel_CIFAR10_convMixer_lr_0.2_randseed_35_nkc=10000_nresp=32_minmax=True.csv\n",
      "FlyModel_CIFAR10_convMixer_lr_0.2_randseed_35_nkc=1000_nresp=32_minmax=True.csv\n",
      "FlyModel_CIFAR10_convMixer_lr_0.2_randseed_35_nkc=1000_nresp=3_minmax=True.csv\n",
      "FlyModel_CIFAR10_convMixer_lr_0.2_randseed_78_nkc=10000_nresp=32_minmax=True.csv\n",
      "FlyModel_CIFAR10_convMixer_lr_0.2_randseed_78_nkc=1000_nresp=32_minmax=True.csv\n",
      "FlyModel_CIFAR10_convMixer_lr_0.2_randseed_78_nkc=1000_nresp=3_minmax=True.csv\n",
      "FlyModel_CIFAR10_convMixer_lr_0.4_randseed_1_nkc=1000_nresp=32_minmax=True.csv\n",
      "FlyModel_MNIST_convMixer_lr_0.01_randseed_1_nkc=10000_nresp=32_minmax=True.csv\n",
      "FlyModel_MNIST_convMixer_lr_0.01_randseed_1_nkc=1000_nresp=32_minmax=True.csv\n",
      "FlyModel_MNIST_convMixer_lr_0.1_randseed_1_nkc=1000_nresp=32_minmax=True.csv\n",
      "FlyModel_MNIST_convMixer_lr_0.2_randseed_1_nkc=1000_nresp=32_minmax=True.csv\n",
      "FlyModel_cifar100_convMixer_lr_0.2_randseed_1_nkc=1000_minmax=True.csv\n",
      "FlyModel_cifar100_convMixer_lr_0.2_randseed_1_nkc=1000_nresp=32_minmax=True.csv\n",
      "FlyModel_cifar100_resnet18_all_result_lr0.2_randseed_1.csv\n",
      "FlyModel_cifar100_resnet18_all_result_lr0.2_randseed_12.csv\n",
      "FlyModel_cifar100_resnet18_all_result_lr0.2_randseed_21.csv\n",
      "FlyModel_cifar100_resnet18_all_result_lr0.2_randseed_35.csv\n",
      "FlyModel_cifar100_resnet18_all_result_lr0.2_randseed_78.csv\n"
     ]
    }
   ],
   "source": [
    "!ls accuracy/"
   ]
  },
  {
   "cell_type": "code",
   "execution_count": 19,
   "metadata": {},
   "outputs": [
    {
     "data": {
      "text/plain": [
       "[0.0197,\n",
       " 0.0387,\n",
       " 0.0541,\n",
       " 0.0709,\n",
       " 0.08929999999999999,\n",
       " 0.10220000000000001,\n",
       " 0.11969999999999999,\n",
       " 0.1335,\n",
       " 0.149,\n",
       " 0.16210000000000002,\n",
       " 0.177,\n",
       " 0.1919,\n",
       " 0.2027,\n",
       " 0.2155,\n",
       " 0.22800000000000004,\n",
       " 0.23980000000000004,\n",
       " 0.25190000000000007,\n",
       " 0.2602,\n",
       " 0.2723,\n",
       " 0.28550000000000003,\n",
       " 0.29730000000000006,\n",
       " 0.3089,\n",
       " 0.3146999999999999,\n",
       " 0.3235,\n",
       " 0.3379,\n",
       " 0.3453,\n",
       " 0.35730000000000006,\n",
       " 0.3678,\n",
       " 0.3761,\n",
       " 0.3863000000000001,\n",
       " 0.39710000000000006,\n",
       " 0.40840000000000004,\n",
       " 0.41489999999999994,\n",
       " 0.4247000000000001,\n",
       " 0.4396000000000001,\n",
       " 0.4488999999999999,\n",
       " 0.45360000000000006,\n",
       " 0.4610000000000001,\n",
       " 0.47290000000000015,\n",
       " 0.48470000000000013,\n",
       " 0.49250000000000005,\n",
       " 0.5043000000000001,\n",
       " 0.5146,\n",
       " 0.5262,\n",
       " 0.5382000000000001,\n",
       " 0.5499,\n",
       " 0.5549000000000001,\n",
       " 0.5669,\n",
       " 0.5731,\n",
       " 0.5801000000000001]"
      ]
     },
     "execution_count": 19,
     "metadata": {},
     "output_type": "execute_result"
    }
   ],
   "source": [
    "[np.mean(df.iloc[i,:]) for i in range(n_task)]"
   ]
  },
  {
   "cell_type": "code",
   "execution_count": 20,
   "metadata": {},
   "outputs": [
    {
     "data": {
      "text/plain": [
       "[0.985,\n",
       " 0.9675,\n",
       " 0.9016666666666667,\n",
       " 0.88625,\n",
       " 0.893,\n",
       " 0.8516666666666667,\n",
       " 0.8549999999999999,\n",
       " 0.8343750000000001,\n",
       " 0.8277777777777778,\n",
       " 0.8105,\n",
       " 0.8045454545454546,\n",
       " 0.7995833333333332,\n",
       " 0.7796153846153846,\n",
       " 0.7696428571428572,\n",
       " 0.7600000000000001,\n",
       " 0.7493750000000001,\n",
       " 0.7408823529411767,\n",
       " 0.7227777777777777,\n",
       " 0.7165789473684211,\n",
       " 0.71375,\n",
       " 0.707857142857143,\n",
       " 0.7020454545454545,\n",
       " 0.6841304347826085,\n",
       " 0.6739583333333333,\n",
       " 0.6758,\n",
       " 0.6640384615384616,\n",
       " 0.6616666666666667,\n",
       " 0.6567857142857143,\n",
       " 0.648448275862069,\n",
       " 0.6438333333333335,\n",
       " 0.6404838709677421,\n",
       " 0.638125,\n",
       " 0.6286363636363635,\n",
       " 0.6245588235294118,\n",
       " 0.6280000000000001,\n",
       " 0.6234722222222221,\n",
       " 0.612972972972973,\n",
       " 0.6065789473684212,\n",
       " 0.6062820512820515,\n",
       " 0.6058750000000002,\n",
       " 0.6006097560975611,\n",
       " 0.6003571428571429,\n",
       " 0.5983720930232558,\n",
       " 0.5979545454545455,\n",
       " 0.5980000000000001,\n",
       " 0.597717391304348,\n",
       " 0.5903191489361703,\n",
       " 0.5905208333333333,\n",
       " 0.584795918367347,\n",
       " 0.5801000000000001]"
      ]
     },
     "execution_count": 20,
     "metadata": {},
     "output_type": "execute_result"
    }
   ],
   "source": [
    "[np.mean(df.iloc[i,:i+1]) for i in range(n_task)]"
   ]
  },
  {
   "cell_type": "code",
   "execution_count": null,
   "metadata": {},
   "outputs": [],
   "source": []
  },
  {
   "cell_type": "code",
   "execution_count": null,
   "metadata": {},
   "outputs": [],
   "source": []
  }
 ],
 "metadata": {
  "kernelspec": {
   "display_name": "Python 3 (ipykernel)",
   "language": "python",
   "name": "python3"
  },
  "language_info": {
   "codemirror_mode": {
    "name": "ipython",
    "version": 3
   },
   "file_extension": ".py",
   "mimetype": "text/x-python",
   "name": "python",
   "nbconvert_exporter": "python",
   "pygments_lexer": "ipython3",
   "version": "3.9.12"
  },
  "vscode": {
   "interpreter": {
    "hash": "e797420ed47d23ae9491e6fd76e00a63ef2435f04a94f9237ebd9c23c40b8110"
   }
  }
 },
 "nbformat": 4,
 "nbformat_minor": 4
}
