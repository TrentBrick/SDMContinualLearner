{
 "cells": [
  {
   "cell_type": "code",
   "execution_count": null,
   "metadata": {},
   "outputs": [],
   "source": [
    "import random\n",
    "import torch\n",
    "from torch import nn\n",
    "from torch.nn import functional as F\n",
    "import pandas as pd\n",
    "import numpy as np\n",
    "\n",
    "from torch.utils.data import Dataset, DataLoader, TensorDataset\n",
    "from torchvision import datasets, transforms\n",
    "from torch import optim\n",
    "\n",
    "from tqdm import tqdm\n",
    "import sys\n",
    "\n",
    "%matplotlib inline\n",
    "import matplotlib.pyplot as plt\n",
    "\n",
    "plt.style.use(\"seaborn-white\")"
   ]
  },
  {
   "cell_type": "code",
   "execution_count": null,
   "metadata": {},
   "outputs": [],
   "source": [
    "def split_data(data, labels, split, bs):\n",
    "    from collections import Counter\n",
    "    distinct_labels = list(Counter(labels).keys())\n",
    "    n_labels = len(distinct_labels)\n",
    "    n_split = int(n_labels/split)\n",
    "    trans = data.T\n",
    "    trans.columns = labels\n",
    "    dataloader = {}\n",
    "    datasets = {}\n",
    "    for i in range(n_split):\n",
    "        cond1 = trans.columns.values >= i*split\n",
    "        cond2 = trans.columns.values < (i+1)*split\n",
    "        out = trans.iloc[:,cond1&cond2]\n",
    "        out_label = out.columns.values\n",
    "        out, out_label = map(torch.tensor, (out.T.to_numpy(), out_label))\n",
    "        datasets[i] = TensorDataset(out.float(), out_label)\n",
    "        dataloader[i] = DataLoader(datasets[i], batch_size=bs, shuffle=True)\n",
    "    \n",
    "    return (datasets, dataloader)"
   ]
  },
  {
   "cell_type": "code",
   "execution_count": null,
   "metadata": {},
   "outputs": [],
   "source": [
    "mnist_train = pd.read_csv('./processed_data/mnist_kmnist_train.csv',header=None)\n",
    "mnist_train_label = pd.read_csv('./processed_data/mnist_kmnist_train_label.csv',header=None)\n",
    "mnist_train_label = np.array([x[0] for x in np.array(mnist_train_label)])\n",
    "fmnist_train = pd.read_csv('./processed_data/fmnist_kmnist_train.csv',header=None)\n",
    "fmnist_train_label = pd.read_csv('./processed_data/fmnist_kmnist_train_label.csv',header=None)\n",
    "fmnist_train_label = np.array([x[0] for x in np.array(fmnist_train_label)])"
   ]
  },
  {
   "cell_type": "code",
   "execution_count": null,
   "metadata": {},
   "outputs": [],
   "source": [
    "mnist_test = pd.read_csv('./processed_data/mnist_kmnist_test.csv',header=None)\n",
    "mnist_test_label = pd.read_csv('./processed_data/mnist_kmnist_test_label.csv',header=None)\n",
    "mnist_test_label = np.array([x[0] for x in np.array(mnist_test_label)])\n",
    "fmnist_test = pd.read_csv('./processed_data/fmnist_kmnist_test.csv',header=None)\n",
    "fmnist_test_label = pd.read_csv('./processed_data/fmnist_kmnist_test_label.csv',header=None)\n",
    "fmnist_test_label = np.array([x[0] for x in np.array(fmnist_test_label)])"
   ]
  },
  {
   "cell_type": "code",
   "execution_count": null,
   "metadata": {},
   "outputs": [],
   "source": [
    "train_data = pd.concat([mnist_train, fmnist_train],axis=0,ignore_index=True)\n",
    "test_data = pd.concat([mnist_test, fmnist_test],axis=0,ignore_index=True)\n",
    "train_label = np.concatenate([mnist_train_label, fmnist_train_label+10])\n",
    "test_label = np.concatenate([mnist_test_label, fmnist_test_label+10])"
   ]
  },
  {
   "cell_type": "code",
   "execution_count": null,
   "metadata": {},
   "outputs": [],
   "source": [
    "class LinearLayer(nn.Module):\n",
    "    def __init__(self, input_dim, output_dim, act='relu', use_bn=False):\n",
    "        super(LinearLayer, self).__init__()\n",
    "        self.use_bn = use_bn\n",
    "        self.lin = nn.Linear(input_dim, output_dim)\n",
    "        self.act = nn.ReLU() if act == 'relu' else act\n",
    "        if use_bn:\n",
    "            self.bn = nn.BatchNorm1d(output_dim)\n",
    "    def forward(self, x):\n",
    "        if self.use_bn:\n",
    "            return self.bn(self.act(self.lin(x)))\n",
    "        return self.act(self.lin(x))\n",
    "\n",
    "class Flatten(nn.Module):\n",
    "\n",
    "    def forward(self, x):\n",
    "        return x.view(x.shape[0], -1)\n",
    "\n",
    "class BaseModel(nn.Module):    \n",
    "    def __init__(self, num_inputs, num_hidden, num_outputs):\n",
    "        super(BaseModel, self).__init__()\n",
    "        #self.f1 = Flatten()\n",
    "        self.lin1 = LinearLayer(num_inputs, num_hidden, use_bn=False)\n",
    "        self.lin2 = nn.Linear(num_hidden, num_outputs)\n",
    "        \n",
    "    def forward(self, x):\n",
    "        #fc1 = self.f1(x)\n",
    "        h1 = self.lin1(x)\n",
    "        out = self.lin2(h1)\n",
    "        return out"
   ]
  },
  {
   "cell_type": "code",
   "execution_count": null,
   "metadata": {},
   "outputs": [],
   "source": [
    "def accu(model, dataloader):\n",
    "    model = model.eval()\n",
    "    acc = 0\n",
    "    count = 0\n",
    "    for input, target in dataloader:\n",
    "        o = model(input)\n",
    "        acc += (o.argmax(dim=1).long() == target).float().sum()\n",
    "        count += len(target)\n",
    "    return acc/count"
   ]
  },
  {
   "cell_type": "code",
   "execution_count": null,
   "metadata": {},
   "outputs": [],
   "source": [
    "trans_train = train_data.T\n",
    "trans_train.columns = train_label\n",
    "trans_test = test_data.T\n",
    "trans_test.columns = test_label"
   ]
  },
  {
   "cell_type": "code",
   "execution_count": null,
   "metadata": {},
   "outputs": [],
   "source": [
    "n_task = 10\n",
    "classes = np.array(range(1,11))*2\n",
    "accuracy = []\n",
    "\n",
    "for nc in classes:\n",
    "    cond1 = trans_train.columns.values >= 0\n",
    "    cond2 = trans_train.columns.values < nc\n",
    "    out = trans_train.iloc[:,cond1&cond2]\n",
    "    out_label = out.columns.values\n",
    "    out, out_label = map(torch.tensor, (out.T.to_numpy(), out_label))\n",
    "    datasets = TensorDataset(out.float(), out_label)\n",
    "    dataloader = DataLoader(datasets, batch_size=64, shuffle=True)\n",
    "    \n",
    "    cond1t = trans_test.columns.values >= 0\n",
    "    cond2t = trans_test.columns.values < nc\n",
    "    outt = trans_test.iloc[:,cond1t&cond2t]\n",
    "    out_labelt = outt.columns.values\n",
    "    outt, out_labelt = map(torch.tensor, (outt.T.to_numpy(), out_labelt))\n",
    "    testsets = TensorDataset(outt.float(), out_labelt)\n",
    "    testloader = DataLoader(testsets, batch_size=64, shuffle=True)\n",
    "    \n",
    "    criterion = nn.CrossEntropyLoss()\n",
    "    torch.random.manual_seed(0)\n",
    "    model = BaseModel(84,3200,20)\n",
    "    lr = 1e-3\n",
    "    optimizer = optim.SGD(model.parameters(), lr=lr, momentum=0.9)\n",
    "    model.train()\n",
    "    for _ in range(10):\n",
    "        for input, target in tqdm(dataloader):\n",
    "            optimizer.zero_grad()\n",
    "            outputs = model(input)\n",
    "            loss = criterion(outputs, target)\n",
    "            loss.backward()\n",
    "            optimizer.step()\n",
    "    model.eval()\n",
    "    accuracy.append(accu(model,testloader).item())"
   ]
  },
  {
   "cell_type": "code",
   "execution_count": null,
   "metadata": {},
   "outputs": [],
   "source": [
    "accuracy = pd.DataFrame(accuracy)\n",
    "accuracy.to_csv('./accuracy/Offline_model_accuracy_MNIST.csv',index=False,header=False)"
   ]
  },
  {
   "cell_type": "code",
   "execution_count": null,
   "metadata": {},
   "outputs": [],
   "source": []
  }
 ],
 "metadata": {
  "kernelspec": {
   "display_name": "Python 3",
   "language": "python",
   "name": "python3"
  },
  "language_info": {
   "codemirror_mode": {
    "name": "ipython",
    "version": 3
   },
   "file_extension": ".py",
   "mimetype": "text/x-python",
   "name": "python",
   "nbconvert_exporter": "python",
   "pygments_lexer": "ipython3",
   "version": "3.7.4"
  }
 },
 "nbformat": 4,
 "nbformat_minor": 2
}
