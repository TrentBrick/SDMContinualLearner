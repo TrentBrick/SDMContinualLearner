{
 "cells": [
  {
   "cell_type": "code",
   "execution_count": null,
   "metadata": {},
   "outputs": [],
   "source": [
    "import random\n",
    "import torch\n",
    "from torch import nn\n",
    "from torch.nn import functional as F\n",
    "import pandas as pd\n",
    "import numpy as np\n",
    "\n",
    "from torch.utils.data import Dataset, DataLoader, TensorDataset\n",
    "from torchvision import datasets, transforms\n",
    "from torch import optim\n",
    "\n",
    "from tqdm import tqdm\n",
    "import sys\n",
    "\n",
    "sys.path.append('./codes/')\n",
    "from EWC_facebook import EWC\n",
    "\n",
    "%matplotlib inline\n",
    "import matplotlib.pyplot as plt\n",
    "\n",
    "plt.style.use(\"seaborn-white\")"
   ]
  },
  {
   "cell_type": "code",
   "execution_count": null,
   "metadata": {},
   "outputs": [],
   "source": [
    "def split_data(data, labels, split, bs, train=True):\n",
    "    from collections import Counter\n",
    "    distinct_labels = list(Counter(labels).keys())\n",
    "    n_labels = len(distinct_labels)\n",
    "    n_split = int(n_labels/split)\n",
    "    trans = data.T\n",
    "    trans.columns = labels\n",
    "    dataloader = {}\n",
    "    datasets = {}\n",
    "    for i in range(n_split):\n",
    "        cond1 = trans.columns.values >= i*split\n",
    "        cond2 = trans.columns.values < (i+1)*split\n",
    "        out = trans.iloc[:,cond1&cond2]\n",
    "        if train:\n",
    "            out = out.iloc[:,:200]\n",
    "        out_label = out.columns.values\n",
    "        out, out_label = map(torch.tensor, (out.T.to_numpy(), out_label))\n",
    "        datasets[i] = TensorDataset(out.float(), out_label)\n",
    "        dataloader[i] = DataLoader(datasets[i], batch_size=bs, shuffle=True)\n",
    "    \n",
    "    return (datasets, dataloader)"
   ]
  },
  {
   "cell_type": "code",
   "execution_count": null,
   "metadata": {},
   "outputs": [],
   "source": [
    "def accu(model, dataloader):\n",
    "    model = model.eval()\n",
    "    acc = 0\n",
    "    count = 0\n",
    "    for input, target in dataloader:\n",
    "        o = model(input)\n",
    "        acc += (o.argmax(dim=1).long() == target).float().sum()\n",
    "        count += len(target)\n",
    "    return acc/count"
   ]
  },
  {
   "cell_type": "code",
   "execution_count": null,
   "metadata": {},
   "outputs": [],
   "source": [
    "mnist_train = pd.read_csv('./processed_data/mnist_kmnist_train.csv',header=None)\n",
    "mnist_train_label = pd.read_csv('./processed_data/mnist_kmnist_train_label.csv',header=None)\n",
    "mnist_train_label = np.array([x[0] for x in np.array(mnist_train_label)])\n",
    "fmnist_train = pd.read_csv('./processed_data/fmnist_kmnist_train.csv',header=None)\n",
    "fmnist_train_label = pd.read_csv('./processed_data/fmnist_kmnist_train_label.csv',header=None)\n",
    "fmnist_train_label = np.array([x[0] for x in np.array(fmnist_train_label)])"
   ]
  },
  {
   "cell_type": "code",
   "execution_count": null,
   "metadata": {},
   "outputs": [],
   "source": [
    "mnist_test = pd.read_csv('./processed_data/mnist_kmnist_test.csv',header=None)\n",
    "mnist_test_label = pd.read_csv('./processed_data/mnist_kmnist_test_label.csv',header=None)\n",
    "mnist_test_label = np.array([x[0] for x in np.array(mnist_test_label)])\n",
    "fmnist_test = pd.read_csv('./processed_data/fmnist_kmnist_test.csv',header=None)\n",
    "fmnist_test_label = pd.read_csv('./processed_data/fmnist_kmnist_test_label.csv',header=None)\n",
    "fmnist_test_label = np.array([x[0] for x in np.array(fmnist_test_label)])"
   ]
  },
  {
   "cell_type": "code",
   "execution_count": null,
   "metadata": {},
   "outputs": [],
   "source": [
    "train_data = pd.concat([mnist_train, fmnist_train],axis=0,ignore_index=True)\n",
    "test_data = pd.concat([mnist_test, fmnist_test],axis=0,ignore_index=True)\n",
    "train_label = np.concatenate([mnist_train_label, fmnist_train_label+10])\n",
    "test_label = np.concatenate([mnist_test_label, fmnist_test_label+10])"
   ]
  },
  {
   "cell_type": "code",
   "execution_count": null,
   "metadata": {},
   "outputs": [],
   "source": [
    "train_datasets, trainloader = split_data(train_data, train_label, 2, 64, train=False)\n",
    "test_datasets, testloader = split_data(test_data, test_label, 2, 64, train=False)"
   ]
  },
  {
   "cell_type": "code",
   "execution_count": null,
   "metadata": {},
   "outputs": [],
   "source": [
    "seeds = [1,2,3,5,8]\n",
    "n_task = 10"
   ]
  },
  {
   "cell_type": "code",
   "execution_count": null,
   "metadata": {},
   "outputs": [],
   "source": [
    "for seed in seeds:\n",
    "    args = {\n",
    "        'n_layers':1,\n",
    "        'n_hiddens':3200,\n",
    "        'memory_strength':1000,\n",
    "        'lr':1e-1,\n",
    "        'n_memories':1000,\n",
    "        'cuda':False,\n",
    "        'seed':seed\n",
    "    }\n",
    "    \n",
    "    gem = EWC(84,20,10,args)\n",
    "    \n",
    "    accuracy = np.zeros([n_task, n_task])\n",
    "\n",
    "    for i in range(n_task):\n",
    "        for _ in range(1):\n",
    "            for input, target in tqdm(trainloader[i]):\n",
    "                gem.observe(input, i, target)\n",
    "\n",
    "        for j in range(i+1):\n",
    "            accuracy[i,j] = accu(gem.net,testloader[j]).item()\n",
    "            \n",
    "    accuracy = pd.DataFrame(accuracy)\n",
    "    accuracy.to_csv('./accuracy/EWC_facebook_all_result_lr1e-1_randseed_'+str(seed)+'.csv',index=False,header=False)"
   ]
  },
  {
   "cell_type": "code",
   "execution_count": null,
   "metadata": {},
   "outputs": [],
   "source": []
  }
 ],
 "metadata": {
  "kernelspec": {
   "display_name": "Python 3",
   "language": "python",
   "name": "python3"
  },
  "language_info": {
   "codemirror_mode": {
    "name": "ipython",
    "version": 3
   },
   "file_extension": ".py",
   "mimetype": "text/x-python",
   "name": "python",
   "nbconvert_exporter": "python",
   "pygments_lexer": "ipython3",
   "version": "3.7.4"
  }
 },
 "nbformat": 4,
 "nbformat_minor": 2
}
