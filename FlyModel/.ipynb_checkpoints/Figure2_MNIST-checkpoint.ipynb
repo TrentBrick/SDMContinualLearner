{
 "cells": [
  {
   "cell_type": "code",
   "execution_count": 1,
   "metadata": {},
   "outputs": [],
   "source": [
    "import numpy as np\n",
    "import pandas as pd\n",
    "from matplotlib import pyplot as plt\n",
    "import seaborn as sns\n",
    "from matplotlib import pylab as PP\n",
    "import itertools\n",
    "\n",
    "plt.style.use('ggplot') # change to ggplot style.\n",
    "PP.rc('font', **{'sans-serif':'Arial', 'family':'sans-serif'}) # Uses Arial font for all."
   ]
  },
  {
   "cell_type": "code",
   "execution_count": 5,
   "metadata": {},
   "outputs": [],
   "source": [
    "br1 = pd.read_csv('../brain-inspired-replay/store/plotsmnist_combinedaccuracy_all_tasks_seed_0.txt',header=None)\n",
    "br2 = pd.read_csv('../brain-inspired-replay/store/plotsmnist_combinedaccuracy_all_tasks_seed_2020.txt',header=None)\n",
    "br3 = pd.read_csv('../brain-inspired-replay/store/plotsmnist_combinedaccuracy_all_tasks_seed_1989.txt',header=None)\n",
    "br4 = pd.read_csv('../brain-inspired-replay/store/plotsmnist_combinedaccuracy_all_tasks_seed_1987.txt',header=None)\n",
    "br5 = pd.read_csv('../brain-inspired-replay/store/plotsmnist_combinedaccuracy_all_tasks_seed_5212.txt',header=None)"
   ]
  },
  {
   "cell_type": "code",
   "execution_count": 6,
   "metadata": {},
   "outputs": [],
   "source": [
    "n = br1.shape[1]\n",
    "bir_1 = [np.mean(br1.iloc[:i+1,i]) for i in range(n)]\n",
    "bir_2 = [np.mean(br2.iloc[:i+1,i]) for i in range(n)]\n",
    "bir_3 = [np.mean(br3.iloc[:i+1,i]) for i in range(n)]\n",
    "bir_4 = [np.mean(br4.iloc[:i+1,i]) for i in range(n)]\n",
    "bir_5 = [np.mean(br5.iloc[:i+1,i]) for i in range(n)]"
   ]
  },
  {
   "cell_type": "code",
   "execution_count": 7,
   "metadata": {},
   "outputs": [],
   "source": [
    "bir = pd.DataFrame(\n",
    "{\n",
    "    'bir1':bir_1,\n",
    "    'bir2':bir_2,\n",
    "    'bir3':bir_3,\n",
    "    'bir4':bir_4,\n",
    "    'bir5':bir_5\n",
    "})"
   ]
  },
  {
   "cell_type": "code",
   "execution_count": 8,
   "metadata": {},
   "outputs": [],
   "source": [
    "bir_mean = bir.T.mean()\n",
    "bir_std = bir.T.std()"
   ]
  },
  {
   "cell_type": "code",
   "execution_count": 9,
   "metadata": {},
   "outputs": [
    {
     "data": {
      "text/plain": [
       "0    0.998771\n",
       "1    0.962240\n",
       "2    0.895662\n",
       "3    0.862854\n",
       "4    0.767701\n",
       "5    0.849117\n",
       "6    0.766343\n",
       "7    0.702531\n",
       "8    0.613750\n",
       "9    0.562674\n",
       "dtype: float64"
      ]
     },
     "execution_count": 9,
     "metadata": {},
     "output_type": "execute_result"
    }
   ],
   "source": [
    "bir_mean"
   ]
  },
  {
   "cell_type": "code",
   "execution_count": 10,
   "metadata": {},
   "outputs": [
    {
     "data": {
      "text/plain": [
       "0    0.000259\n",
       "1    0.004359\n",
       "2    0.009768\n",
       "3    0.015943\n",
       "4    0.017114\n",
       "5    0.012193\n",
       "6    0.010012\n",
       "7    0.018414\n",
       "8    0.014437\n",
       "9    0.014944\n",
       "dtype: float64"
      ]
     },
     "execution_count": 10,
     "metadata": {},
     "output_type": "execute_result"
    }
   ],
   "source": [
    "bir_std"
   ]
  },
  {
   "cell_type": "code",
   "execution_count": 11,
   "metadata": {},
   "outputs": [],
   "source": [
    "vanilla1 = pd.read_csv('./accuracy/Vanilla_all_result_lr1e-3_randseed_1.csv',header=None)\n",
    "vanilla2 = pd.read_csv('./accuracy/Vanilla_all_result_lr1e-3_randseed_2.csv',header=None)\n",
    "vanilla3 = pd.read_csv('./accuracy/Vanilla_all_result_lr1e-3_randseed_3.csv',header=None)\n",
    "vanilla4 = pd.read_csv('./accuracy/Vanilla_all_result_lr1e-3_randseed_5.csv',header=None)\n",
    "vanilla5 = pd.read_csv('./accuracy/Vanilla_all_result_lr1e-3_randseed_8.csv',header=None)"
   ]
  },
  {
   "cell_type": "code",
   "execution_count": 12,
   "metadata": {},
   "outputs": [
    {
     "data": {
      "text/html": [
       "<div>\n",
       "<style scoped>\n",
       "    .dataframe tbody tr th:only-of-type {\n",
       "        vertical-align: middle;\n",
       "    }\n",
       "\n",
       "    .dataframe tbody tr th {\n",
       "        vertical-align: top;\n",
       "    }\n",
       "\n",
       "    .dataframe thead th {\n",
       "        text-align: right;\n",
       "    }\n",
       "</style>\n",
       "<table border=\"1\" class=\"dataframe\">\n",
       "  <thead>\n",
       "    <tr style=\"text-align: right;\">\n",
       "      <th></th>\n",
       "      <th>0</th>\n",
       "      <th>1</th>\n",
       "      <th>2</th>\n",
       "      <th>3</th>\n",
       "      <th>4</th>\n",
       "      <th>5</th>\n",
       "      <th>6</th>\n",
       "      <th>7</th>\n",
       "      <th>8</th>\n",
       "      <th>9</th>\n",
       "    </tr>\n",
       "  </thead>\n",
       "  <tbody>\n",
       "    <tr>\n",
       "      <td>0</td>\n",
       "      <td>0.997636</td>\n",
       "      <td>0.000000</td>\n",
       "      <td>0.000000</td>\n",
       "      <td>0.000000</td>\n",
       "      <td>0.000000</td>\n",
       "      <td>0.0000</td>\n",
       "      <td>0.0000</td>\n",
       "      <td>0.0000</td>\n",
       "      <td>0.000</td>\n",
       "      <td>0.000</td>\n",
       "    </tr>\n",
       "    <tr>\n",
       "      <td>1</td>\n",
       "      <td>0.000000</td>\n",
       "      <td>0.959843</td>\n",
       "      <td>0.000000</td>\n",
       "      <td>0.000000</td>\n",
       "      <td>0.000000</td>\n",
       "      <td>0.0000</td>\n",
       "      <td>0.0000</td>\n",
       "      <td>0.0000</td>\n",
       "      <td>0.000</td>\n",
       "      <td>0.000</td>\n",
       "    </tr>\n",
       "    <tr>\n",
       "      <td>2</td>\n",
       "      <td>0.000000</td>\n",
       "      <td>0.000000</td>\n",
       "      <td>0.978655</td>\n",
       "      <td>0.000000</td>\n",
       "      <td>0.000000</td>\n",
       "      <td>0.0000</td>\n",
       "      <td>0.0000</td>\n",
       "      <td>0.0000</td>\n",
       "      <td>0.000</td>\n",
       "      <td>0.000</td>\n",
       "    </tr>\n",
       "    <tr>\n",
       "      <td>3</td>\n",
       "      <td>0.000000</td>\n",
       "      <td>0.000000</td>\n",
       "      <td>0.000000</td>\n",
       "      <td>0.994461</td>\n",
       "      <td>0.000000</td>\n",
       "      <td>0.0000</td>\n",
       "      <td>0.0000</td>\n",
       "      <td>0.0000</td>\n",
       "      <td>0.000</td>\n",
       "      <td>0.000</td>\n",
       "    </tr>\n",
       "    <tr>\n",
       "      <td>4</td>\n",
       "      <td>0.000000</td>\n",
       "      <td>0.000000</td>\n",
       "      <td>0.000000</td>\n",
       "      <td>0.000000</td>\n",
       "      <td>0.957640</td>\n",
       "      <td>0.0000</td>\n",
       "      <td>0.0000</td>\n",
       "      <td>0.0000</td>\n",
       "      <td>0.000</td>\n",
       "      <td>0.000</td>\n",
       "    </tr>\n",
       "    <tr>\n",
       "      <td>5</td>\n",
       "      <td>0.000000</td>\n",
       "      <td>0.000000</td>\n",
       "      <td>0.000000</td>\n",
       "      <td>0.002014</td>\n",
       "      <td>0.213817</td>\n",
       "      <td>0.9555</td>\n",
       "      <td>0.0000</td>\n",
       "      <td>0.0000</td>\n",
       "      <td>0.000</td>\n",
       "      <td>0.000</td>\n",
       "    </tr>\n",
       "    <tr>\n",
       "      <td>6</td>\n",
       "      <td>0.000000</td>\n",
       "      <td>0.000000</td>\n",
       "      <td>0.001601</td>\n",
       "      <td>0.010070</td>\n",
       "      <td>0.331316</td>\n",
       "      <td>0.0000</td>\n",
       "      <td>0.9195</td>\n",
       "      <td>0.0000</td>\n",
       "      <td>0.000</td>\n",
       "      <td>0.000</td>\n",
       "    </tr>\n",
       "    <tr>\n",
       "      <td>7</td>\n",
       "      <td>0.000000</td>\n",
       "      <td>0.000000</td>\n",
       "      <td>0.000000</td>\n",
       "      <td>0.000000</td>\n",
       "      <td>0.003026</td>\n",
       "      <td>0.0000</td>\n",
       "      <td>0.0000</td>\n",
       "      <td>0.9875</td>\n",
       "      <td>0.000</td>\n",
       "      <td>0.000</td>\n",
       "    </tr>\n",
       "    <tr>\n",
       "      <td>8</td>\n",
       "      <td>0.000000</td>\n",
       "      <td>0.000000</td>\n",
       "      <td>0.000000</td>\n",
       "      <td>0.000000</td>\n",
       "      <td>0.057489</td>\n",
       "      <td>0.0000</td>\n",
       "      <td>0.0000</td>\n",
       "      <td>0.0000</td>\n",
       "      <td>0.992</td>\n",
       "      <td>0.000</td>\n",
       "    </tr>\n",
       "    <tr>\n",
       "      <td>9</td>\n",
       "      <td>0.000000</td>\n",
       "      <td>0.000000</td>\n",
       "      <td>0.000000</td>\n",
       "      <td>0.000000</td>\n",
       "      <td>0.128593</td>\n",
       "      <td>0.0000</td>\n",
       "      <td>0.0000</td>\n",
       "      <td>0.0000</td>\n",
       "      <td>0.000</td>\n",
       "      <td>0.987</td>\n",
       "    </tr>\n",
       "  </tbody>\n",
       "</table>\n",
       "</div>"
      ],
      "text/plain": [
       "          0         1         2         3         4       5       6       7  \\\n",
       "0  0.997636  0.000000  0.000000  0.000000  0.000000  0.0000  0.0000  0.0000   \n",
       "1  0.000000  0.959843  0.000000  0.000000  0.000000  0.0000  0.0000  0.0000   \n",
       "2  0.000000  0.000000  0.978655  0.000000  0.000000  0.0000  0.0000  0.0000   \n",
       "3  0.000000  0.000000  0.000000  0.994461  0.000000  0.0000  0.0000  0.0000   \n",
       "4  0.000000  0.000000  0.000000  0.000000  0.957640  0.0000  0.0000  0.0000   \n",
       "5  0.000000  0.000000  0.000000  0.002014  0.213817  0.9555  0.0000  0.0000   \n",
       "6  0.000000  0.000000  0.001601  0.010070  0.331316  0.0000  0.9195  0.0000   \n",
       "7  0.000000  0.000000  0.000000  0.000000  0.003026  0.0000  0.0000  0.9875   \n",
       "8  0.000000  0.000000  0.000000  0.000000  0.057489  0.0000  0.0000  0.0000   \n",
       "9  0.000000  0.000000  0.000000  0.000000  0.128593  0.0000  0.0000  0.0000   \n",
       "\n",
       "       8      9  \n",
       "0  0.000  0.000  \n",
       "1  0.000  0.000  \n",
       "2  0.000  0.000  \n",
       "3  0.000  0.000  \n",
       "4  0.000  0.000  \n",
       "5  0.000  0.000  \n",
       "6  0.000  0.000  \n",
       "7  0.000  0.000  \n",
       "8  0.992  0.000  \n",
       "9  0.000  0.987  "
      ]
     },
     "execution_count": 12,
     "metadata": {},
     "output_type": "execute_result"
    }
   ],
   "source": [
    "vanilla1"
   ]
  },
  {
   "cell_type": "code",
   "execution_count": 13,
   "metadata": {},
   "outputs": [],
   "source": [
    "n = vanilla1.shape[0]\n",
    "vanilla_1 = [np.mean(vanilla1.iloc[i,:i+1]) for i in range(n)]\n",
    "vanilla_2 = [np.mean(vanilla2.iloc[i,:i+1]) for i in range(n)]\n",
    "vanilla_3 = [np.mean(vanilla3.iloc[i,:i+1]) for i in range(n)]\n",
    "vanilla_4 = [np.mean(vanilla4.iloc[i,:i+1]) for i in range(n)]\n",
    "vanilla_5 = [np.mean(vanilla5.iloc[i,:i+1]) for i in range(n)]"
   ]
  },
  {
   "cell_type": "code",
   "execution_count": 14,
   "metadata": {},
   "outputs": [],
   "source": [
    "vanilla = pd.DataFrame(\n",
    "{\n",
    "    'rand1':vanilla_1,\n",
    "    'rand2':vanilla_2,\n",
    "    'rand3':vanilla_3,\n",
    "    'rand5':vanilla_4,\n",
    "    'rand8':vanilla_5\n",
    "})"
   ]
  },
  {
   "cell_type": "code",
   "execution_count": 15,
   "metadata": {},
   "outputs": [],
   "source": [
    "vanilla_mean = vanilla.T.mean()\n",
    "vanilla_std = vanilla.T.std()"
   ]
  },
  {
   "cell_type": "code",
   "execution_count": 16,
   "metadata": {},
   "outputs": [
    {
     "data": {
      "text/plain": [
       "0    0.997731\n",
       "1    0.479236\n",
       "2    0.326218\n",
       "3    0.248867\n",
       "4    0.191790\n",
       "5    0.194690\n",
       "6    0.177512\n",
       "7    0.124118\n",
       "8    0.119439\n",
       "9    0.112908\n",
       "dtype: float64"
      ]
     },
     "execution_count": 16,
     "metadata": {},
     "output_type": "execute_result"
    }
   ],
   "source": [
    "vanilla_mean"
   ]
  },
  {
   "cell_type": "code",
   "execution_count": 17,
   "metadata": {},
   "outputs": [
    {
     "data": {
      "text/plain": [
       "0    0.000396\n",
       "1    0.000939\n",
       "2    0.000700\n",
       "3    0.000178\n",
       "4    0.000291\n",
       "5    0.002495\n",
       "6    0.005469\n",
       "7    0.000509\n",
       "8    0.004907\n",
       "9    0.002688\n",
       "dtype: float64"
      ]
     },
     "execution_count": 17,
     "metadata": {},
     "output_type": "execute_result"
    }
   ],
   "source": [
    "vanilla_std"
   ]
  },
  {
   "cell_type": "code",
   "execution_count": 18,
   "metadata": {},
   "outputs": [],
   "source": [
    "fly1 = pd.read_csv('./accuracy/FlyModel_all_result_lr0.01_randseed1_full.csv',header=None)\n",
    "fly2 = pd.read_csv('./accuracy/FlyModel_all_result_lr0.01_randseed12_full.csv',header=None)\n",
    "fly3 = pd.read_csv('./accuracy/FlyModel_all_result_lr0.01_randseed21_full.csv',header=None)\n",
    "fly4 = pd.read_csv('./accuracy/FlyModel_all_result_lr0.01_randseed35_full.csv',header=None)\n",
    "fly5 = pd.read_csv('./accuracy/FlyModel_all_result_lr0.01_randseed78_full.csv',header=None)"
   ]
  },
  {
   "cell_type": "code",
   "execution_count": 19,
   "metadata": {},
   "outputs": [],
   "source": [
    "n = fly1.shape[0]\n",
    "fly_1 = [np.mean(fly1.iloc[i,:i+1]) for i in range(n)]\n",
    "fly_2 = [np.mean(fly2.iloc[i,:i+1]) for i in range(n)]\n",
    "fly_3 = [np.mean(fly3.iloc[i,:i+1]) for i in range(n)]\n",
    "fly_4 = [np.mean(fly4.iloc[i,:i+1]) for i in range(n)]\n",
    "fly_5 = [np.mean(fly5.iloc[i,:i+1]) for i in range(n)]"
   ]
  },
  {
   "cell_type": "code",
   "execution_count": 20,
   "metadata": {},
   "outputs": [],
   "source": [
    "fly = pd.DataFrame(\n",
    "{\n",
    "    'rand1':fly_1,\n",
    "    'rand2':fly_2,\n",
    "    'rand3':fly_3,\n",
    "    'rand5':fly_4,\n",
    "    'rand8':fly_5\n",
    "})"
   ]
  },
  {
   "cell_type": "code",
   "execution_count": 21,
   "metadata": {},
   "outputs": [],
   "source": [
    "fly_mean = fly.T.mean()\n",
    "fly_std = fly.T.std()"
   ]
  },
  {
   "cell_type": "code",
   "execution_count": 22,
   "metadata": {},
   "outputs": [
    {
     "data": {
      "text/plain": [
       "0    0.998109\n",
       "1    0.935561\n",
       "2    0.913332\n",
       "3    0.888803\n",
       "4    0.863982\n",
       "5    0.869319\n",
       "6    0.837470\n",
       "7    0.805004\n",
       "8    0.753303\n",
       "9    0.750510\n",
       "dtype: float64"
      ]
     },
     "execution_count": 22,
     "metadata": {},
     "output_type": "execute_result"
    }
   ],
   "source": [
    "fly_mean"
   ]
  },
  {
   "cell_type": "code",
   "execution_count": 24,
   "metadata": {},
   "outputs": [],
   "source": [
    "gem1 = pd.read_csv('./accuracy/GEM_all_result_lr1e-3_randseed_1.csv',header=None)\n",
    "gem2 = pd.read_csv('./accuracy/GEM_all_result_lr1e-3_randseed_2.csv',header=None)\n",
    "gem3 = pd.read_csv('./accuracy/GEM_all_result_lr1e-3_randseed_3.csv',header=None)\n",
    "gem4 = pd.read_csv('./accuracy/GEM_all_result_lr1e-3_randseed_5.csv',header=None)\n",
    "gem5 = pd.read_csv('./accuracy/GEM_all_result_lr1e-3_randseed_8.csv',header=None)\n",
    "\n",
    "n = gem1.shape[0]\n",
    "gem_1 = [np.mean(gem1.iloc[i,:i+1]) for i in range(n)]\n",
    "gem_2 = [np.mean(gem2.iloc[i,:i+1]) for i in range(n)]\n",
    "gem_3 = [np.mean(gem3.iloc[i,:i+1]) for i in range(n)]\n",
    "gem_4 = [np.mean(gem4.iloc[i,:i+1]) for i in range(n)]\n",
    "gem_5 = [np.mean(gem5.iloc[i,:i+1]) for i in range(n)]\n",
    "\n",
    "gem = pd.DataFrame(\n",
    "{\n",
    "    'rand1':gem_1,\n",
    "    'rand2':gem_2,\n",
    "    'rand3':gem_3,\n",
    "    'rand5':gem_4,\n",
    "    'rand8':gem_5\n",
    "})\n",
    "gem_mean = gem.T.mean()\n",
    "gem_std = gem.T.std()"
   ]
  },
  {
   "cell_type": "code",
   "execution_count": 25,
   "metadata": {},
   "outputs": [
    {
     "data": {
      "text/plain": [
       "0    0.996218\n",
       "1    0.865949\n",
       "2    0.771081\n",
       "3    0.742935\n",
       "4    0.685528\n",
       "5    0.656371\n",
       "6    0.531321\n",
       "7    0.503110\n",
       "8    0.448943\n",
       "9    0.429963\n",
       "dtype: float64"
      ]
     },
     "execution_count": 25,
     "metadata": {},
     "output_type": "execute_result"
    }
   ],
   "source": [
    "gem_mean"
   ]
  },
  {
   "cell_type": "code",
   "execution_count": 26,
   "metadata": {},
   "outputs": [],
   "source": [
    "ewc1 = pd.read_csv('./accuracy/EWC_facebook_all_result_lr1e-1_randseed_1.csv',header=None)\n",
    "ewc2 = pd.read_csv('./accuracy/EWC_facebook_all_result_lr1e-1_randseed_2.csv',header=None)\n",
    "ewc3 = pd.read_csv('./accuracy/EWC_facebook_all_result_lr1e-1_randseed_3.csv',header=None)\n",
    "ewc4 = pd.read_csv('./accuracy/EWC_facebook_all_result_lr1e-1_randseed_5.csv',header=None)\n",
    "ewc5 = pd.read_csv('./accuracy/EWC_facebook_all_result_lr1e-1_randseed_8.csv',header=None)\n",
    "\n",
    "n = ewc1.shape[0]\n",
    "ewc_1 = [np.mean(ewc1.iloc[i,:i+1]) for i in range(n)]\n",
    "ewc_2 = [np.mean(ewc2.iloc[i,:i+1]) for i in range(n)]\n",
    "ewc_3 = [np.mean(ewc3.iloc[i,:i+1]) for i in range(n)]\n",
    "ewc_4 = [np.mean(ewc4.iloc[i,:i+1]) for i in range(n)]\n",
    "ewc_5 = [np.mean(ewc5.iloc[i,:i+1]) for i in range(n)]\n",
    "\n",
    "ewc = pd.DataFrame(\n",
    "{\n",
    "    'rand1':ewc_1,\n",
    "    'rand2':ewc_2,\n",
    "    'rand3':ewc_3,\n",
    "    'rand5':ewc_4,\n",
    "    'rand8':ewc_5\n",
    "})\n",
    "ewc_mean = ewc.T.mean()\n",
    "ewc_std = ewc.T.std()"
   ]
  },
  {
   "cell_type": "code",
   "execution_count": 27,
   "metadata": {},
   "outputs": [
    {
     "data": {
      "text/plain": [
       "0    0.998392\n",
       "1    0.802680\n",
       "2    0.651289\n",
       "3    0.611845\n",
       "4    0.577310\n",
       "5    0.569806\n",
       "6    0.536271\n",
       "7    0.464216\n",
       "8    0.434405\n",
       "9    0.443278\n",
       "dtype: float64"
      ]
     },
     "execution_count": 27,
     "metadata": {},
     "output_type": "execute_result"
    }
   ],
   "source": [
    "ewc_mean"
   ]
  },
  {
   "cell_type": "code",
   "execution_count": 28,
   "metadata": {},
   "outputs": [],
   "source": [
    "offline = pd.read_csv('./accuracy/Offline_model_accuracy_MNIST.csv',header=None)"
   ]
  },
  {
   "cell_type": "code",
   "execution_count": 29,
   "metadata": {},
   "outputs": [
    {
     "data": {
      "text/html": [
       "<div>\n",
       "<style scoped>\n",
       "    .dataframe tbody tr th:only-of-type {\n",
       "        vertical-align: middle;\n",
       "    }\n",
       "\n",
       "    .dataframe tbody tr th {\n",
       "        vertical-align: top;\n",
       "    }\n",
       "\n",
       "    .dataframe thead th {\n",
       "        text-align: right;\n",
       "    }\n",
       "</style>\n",
       "<table border=\"1\" class=\"dataframe\">\n",
       "  <thead>\n",
       "    <tr style=\"text-align: right;\">\n",
       "      <th></th>\n",
       "      <th>0</th>\n",
       "    </tr>\n",
       "  </thead>\n",
       "  <tbody>\n",
       "    <tr>\n",
       "      <td>0</td>\n",
       "      <td>0.999054</td>\n",
       "    </tr>\n",
       "    <tr>\n",
       "      <td>1</td>\n",
       "      <td>0.978590</td>\n",
       "    </tr>\n",
       "    <tr>\n",
       "      <td>2</td>\n",
       "      <td>0.971315</td>\n",
       "    </tr>\n",
       "    <tr>\n",
       "      <td>3</td>\n",
       "      <td>0.960584</td>\n",
       "    </tr>\n",
       "    <tr>\n",
       "      <td>4</td>\n",
       "      <td>0.942700</td>\n",
       "    </tr>\n",
       "    <tr>\n",
       "      <td>5</td>\n",
       "      <td>0.947750</td>\n",
       "    </tr>\n",
       "    <tr>\n",
       "      <td>6</td>\n",
       "      <td>0.928214</td>\n",
       "    </tr>\n",
       "    <tr>\n",
       "      <td>7</td>\n",
       "      <td>0.900813</td>\n",
       "    </tr>\n",
       "    <tr>\n",
       "      <td>8</td>\n",
       "      <td>0.855556</td>\n",
       "    </tr>\n",
       "    <tr>\n",
       "      <td>9</td>\n",
       "      <td>0.856650</td>\n",
       "    </tr>\n",
       "  </tbody>\n",
       "</table>\n",
       "</div>"
      ],
      "text/plain": [
       "          0\n",
       "0  0.999054\n",
       "1  0.978590\n",
       "2  0.971315\n",
       "3  0.960584\n",
       "4  0.942700\n",
       "5  0.947750\n",
       "6  0.928214\n",
       "7  0.900813\n",
       "8  0.855556\n",
       "9  0.856650"
      ]
     },
     "execution_count": 29,
     "metadata": {},
     "output_type": "execute_result"
    }
   ],
   "source": [
    "offline"
   ]
  },
  {
   "cell_type": "code",
   "execution_count": 49,
   "metadata": {
    "scrolled": false
   },
   "outputs": [
    {
     "data": {
      "image/png": "[encoded data removed]",
      "text/plain": [
       "<Figure size 504x360 with 1 Axes>"
      ]
     },
     "metadata": {
      "needs_background": "light"
     },
     "output_type": "display_data"
    }
   ],
   "source": [
    "plt.figure(figsize=(7,5))\n",
    "x = np.array(range(1,11))*2\n",
    "#plt.hlines(0.8451,2,20,linestyles='dashed',alpha=0.5);\n",
    "plt.plot(x, offline, '--', color='black', alpha=0.7, label='Offline')\n",
    "plt.errorbar(x, bir_mean, yerr=bir_std, color='#fca311', label='BI-R', ls='-.', marker='*',lw=2);\n",
    "plt.errorbar(x, fly_mean, yerr=fly_std, color='#E63946',label='Fly Model',marker='o',lw=2);\n",
    "plt.errorbar(x, gem_mean, yerr=gem_std, color='#70C1B3',label='GEM',marker='s',lw=2);\n",
    "plt.errorbar(x, ewc_mean, yerr=ewc_std, color='#457B9D',label='EWC',marker='>',lw=2);\n",
    "plt.errorbar(x, vanilla_mean, yerr=vanilla_std, color='#1D3557',label='Vanilla',marker='<',lw=2);\n",
    "\n",
    "plt.xlabel('Number of Trained Classes',size=18,color='black');\n",
    "plt.ylabel('Accuracy of Trained Classes',size=18,color='black');\n",
    "plt.xticks((np.arange(2, 21, step=2)), size=14,color='black');\n",
    "plt.yticks(size=14,color='black');\n",
    "plt.ylim(0,1.1);\n",
    "#plt.title('With Sparse Coding', fontsize=24);\n",
    "#plt.legend(loc='best',fontsize=14);\n",
    "plt.savefig('../figures/Fig_2A.png',dpi=512);"
   ]
  },
  {
   "cell_type": "code",
   "execution_count": 32,
   "metadata": {},
   "outputs": [],
   "source": [
    "n = fly.shape[0]\n",
    "fly_delta1 = [fly1.iloc[i,i] - fly1.iloc[n-1,i] for i in range(n)]\n",
    "ewc_delta1 = [ewc1.iloc[i,i] - ewc1.iloc[n-1,i] for i in range(n)]\n",
    "gem_delta1 = [gem1.iloc[i,i] - gem1.iloc[n-1,i] for i in range(n)]\n",
    "vanilla_delta1 = [vanilla1.iloc[i,i] - vanilla1.iloc[n-1,i] for i in range(n)]\n",
    "bir_delta1 = [br1.iloc[i,i] - br1.iloc[i,n-1] for i in range(n)]\n",
    "\n",
    "fly_delta2 = [fly2.iloc[i,i] - fly2.iloc[n-1,i] for i in range(n)]\n",
    "ewc_delta2 = [ewc2.iloc[i,i] - ewc2.iloc[n-1,i] for i in range(n)]\n",
    "gem_delta2 = [gem2.iloc[i,i] - gem2.iloc[n-1,i] for i in range(n)]\n",
    "vanilla_delta2 = [vanilla2.iloc[i,i] - vanilla2.iloc[n-1,i] for i in range(n)]\n",
    "bir_delta2 = [br2.iloc[i,i] - br2.iloc[i,n-1] for i in range(n)]\n",
    "\n",
    "fly_delta3 = [fly3.iloc[i,i] - fly3.iloc[n-1,i] for i in range(n)]\n",
    "ewc_delta3 = [ewc3.iloc[i,i] - ewc3.iloc[n-1,i] for i in range(n)]\n",
    "gem_delta3 = [gem3.iloc[i,i] - gem3.iloc[n-1,i] for i in range(n)]\n",
    "vanilla_delta3 = [vanilla3.iloc[i,i] - vanilla3.iloc[n-1,i] for i in range(n)]\n",
    "bir_delta3 = [br3.iloc[i,i] - br3.iloc[i,n-1] for i in range(n)]\n",
    "\n",
    "fly_delta4 = [fly4.iloc[i,i] - fly4.iloc[n-1,i] for i in range(n)]\n",
    "ewc_delta4 = [ewc4.iloc[i,i] - ewc4.iloc[n-1,i] for i in range(n)]\n",
    "gem_delta4 = [gem4.iloc[i,i] - gem4.iloc[n-1,i] for i in range(n)]\n",
    "vanilla_delta4 = [vanilla4.iloc[i,i] - vanilla4.iloc[n-1,i] for i in range(n)]\n",
    "bir_delta4 = [br4.iloc[i,i] - br4.iloc[i,n-1] for i in range(n)]\n",
    "\n",
    "fly_delta5 = [fly5.iloc[i,i] - fly5.iloc[n-1,i] for i in range(n)]\n",
    "ewc_delta5 = [ewc5.iloc[i,i] - ewc5.iloc[n-1,i] for i in range(n)]\n",
    "gem_delta5 = [gem5.iloc[i,i] - gem5.iloc[n-1,i] for i in range(n)]\n",
    "vanilla_delta5 = [vanilla5.iloc[i,i] - vanilla5.iloc[n-1,i] for i in range(n)]\n",
    "bir_delta5 = [br5.iloc[i,i] - br5.iloc[i,n-1] for i in range(n)]"
   ]
  },
  {
   "cell_type": "code",
   "execution_count": 33,
   "metadata": {},
   "outputs": [],
   "source": [
    "fly_delta = pd.DataFrame(\n",
    "{\n",
    "    'rand1':fly_delta1,\n",
    "    'rand2':fly_delta2,\n",
    "    'rand3':fly_delta3,\n",
    "    'rand4':fly_delta4,\n",
    "    'rand5':fly_delta5,\n",
    "})\n",
    "\n",
    "ewc_delta = pd.DataFrame(\n",
    "{\n",
    "    'rand1':ewc_delta1,\n",
    "    'rand2':ewc_delta2,\n",
    "    'rand3':ewc_delta3,\n",
    "    'rand4':ewc_delta4,\n",
    "    'rand5':ewc_delta5,\n",
    "})\n",
    "\n",
    "gem_delta = pd.DataFrame(\n",
    "{\n",
    "    'rand1':gem_delta1,\n",
    "    'rand2':gem_delta2,\n",
    "    'rand3':gem_delta3,\n",
    "    'rand4':gem_delta4,\n",
    "    'rand5':gem_delta5,\n",
    "})\n",
    "\n",
    "vanilla_delta = pd.DataFrame(\n",
    "{\n",
    "    'rand1':vanilla_delta1,\n",
    "    'rand2':vanilla_delta2,\n",
    "    'rand3':vanilla_delta3,\n",
    "    'rand4':vanilla_delta4,\n",
    "    'rand5':vanilla_delta5,\n",
    "})\n",
    "\n",
    "bir_delta = pd.DataFrame(\n",
    "{\n",
    "    'rand1':bir_delta1,\n",
    "    'rand2':bir_delta2,\n",
    "    'rand3':bir_delta3,\n",
    "    'rand4':bir_delta4,\n",
    "    'rand5':bir_delta5,\n",
    "})"
   ]
  },
  {
   "cell_type": "code",
   "execution_count": 34,
   "metadata": {},
   "outputs": [],
   "source": [
    "fly_delta_mean = fly_delta.T.mean()\n",
    "fly_delta_std = fly_delta.T.std()\n",
    "\n",
    "ewc_delta_mean = ewc_delta.T.mean()\n",
    "ewc_delta_std = ewc_delta.T.std()\n",
    "\n",
    "gem_delta_mean = gem_delta.T.mean()\n",
    "gem_delta_std = gem_delta.T.std()\n",
    "\n",
    "vanilla_delta_mean = vanilla_delta.T.mean()\n",
    "vanilla_delta_std = vanilla_delta.T.std()\n",
    "\n",
    "bir_delta_mean = bir_delta.T.mean()\n",
    "bir_delta_std = bir_delta.T.std()"
   ]
  },
  {
   "cell_type": "code",
   "execution_count": 35,
   "metadata": {},
   "outputs": [
    {
     "data": {
      "text/plain": [
       "0.06998664590839118"
      ]
     },
     "execution_count": 35,
     "metadata": {},
     "output_type": "execute_result"
    }
   ],
   "source": [
    "fly_delta_mean.mean()"
   ]
  },
  {
   "cell_type": "code",
   "execution_count": 36,
   "metadata": {},
   "outputs": [
    {
     "data": {
      "text/plain": [
       "0.23918403942137956"
      ]
     },
     "execution_count": 36,
     "metadata": {},
     "output_type": "execute_result"
    }
   ],
   "source": [
    "gem_delta_mean.mean()"
   ]
  },
  {
   "cell_type": "code",
   "execution_count": 37,
   "metadata": {},
   "outputs": [
    {
     "data": {
      "text/plain": [
       "0.26727195465937253"
      ]
     },
     "execution_count": 37,
     "metadata": {},
     "output_type": "execute_result"
    }
   ],
   "source": [
    "ewc_delta_mean.mean()"
   ]
  },
  {
   "cell_type": "code",
   "execution_count": 38,
   "metadata": {},
   "outputs": [
    {
     "data": {
      "text/plain": [
       "0.41715582156474645"
      ]
     },
     "execution_count": 38,
     "metadata": {},
     "output_type": "execute_result"
    }
   ],
   "source": [
    "bir_delta_mean.mean()"
   ]
  },
  {
   "cell_type": "code",
   "execution_count": 39,
   "metadata": {},
   "outputs": [
    {
     "name": "stderr",
     "output_type": "stream",
     "text": [
      "findfont: Font family ['sans-serif'] not found. Falling back to DejaVu Sans.\n"
     ]
    },
    {
     "data": {
      "image/png": "[encoded data removed]",
      "text/plain": [
       "<Figure size 1152x360 with 1 Axes>"
      ]
     },
     "metadata": {
      "needs_background": "light"
     },
     "output_type": "display_data"
    }
   ],
   "source": [
    "barWidth = 0.15\n",
    "plt.figure(figsize=(16,5))\n",
    " \n",
    "# Set position of bar on X axis\n",
    "r1 = np.arange(len(fly_delta_mean)) + 3.5*barWidth\n",
    "r2 = [x - barWidth for x in r1]\n",
    "r3 = [x - barWidth for x in r2]\n",
    "r4 = [x - barWidth for x in r3]\n",
    "r5 = [x - barWidth for x in r4]\n",
    " \n",
    "# Make the plot\n",
    "plt.bar(r1, fly_delta_mean, yerr=fly_delta_std, color='#E63946', width=barWidth, edgecolor='#E63946', label='FlyModel')\n",
    "plt.bar(r3, ewc_delta_mean, yerr=ewc_delta_std, color='#457B9D', width=barWidth, edgecolor='#457B9D', label='EWC')\n",
    "plt.bar(r2, gem_delta_mean, yerr=gem_delta_std, color='#70C1B3', width=barWidth, edgecolor='#70C1B3', label='GEM')\n",
    "plt.bar(r5, vanilla_delta_mean, yerr=vanilla_delta_std, color='#1D3557', width=barWidth, edgecolor='#1D3557', label='Vanilla')\n",
    "plt.bar(r4, bir_delta_mean, yerr=bir_delta_std, color='#fca311', width=barWidth, edgecolor='#fca311', label='BI-R')\n",
    " \n",
    "# Add xticks on the middle of the group bars\n",
    "plt.xlabel('Task Number', size=18, color='black')\n",
    "plt.ylabel('Memory Loss', size=18, color='black')\n",
    "plt.xticks([r + 1.5*barWidth for r in range(len(fly_delta_mean))], list(range(1,26)), size=14, color='black')\n",
    "plt.yticks(size=14, color='black')\n",
    "#plt.ylim(0,1)\n",
    " \n",
    "# Create legend & Show graphic\n",
    "plt.legend(loc='best',fontsize=16)\n",
    "#plt.xlim(-0.5,25);\n",
    "#plt.show()\n",
    "plt.savefig('../figures/Fig_S1A.png',dpi=512);"
   ]
  },
  {
   "cell_type": "code",
   "execution_count": 40,
   "metadata": {},
   "outputs": [],
   "source": [
    "new_fly_delta = [(offline.values[i]-fly_mean.values[i])[0] for i in range(len(fly_mean.values))]\n",
    "new_ewc_delta = [(offline.values[i]-ewc_mean.values[i])[0] for i in range(len(fly_mean.values))]\n",
    "new_gem_delta = [(offline.values[i]-gem_mean.values[i])[0] for i in range(len(fly_mean.values))]\n",
    "new_vanilla_delta = [(offline.values[i]-vanilla_mean.values[i])[0] for i in range(len(fly_mean.values))]\n",
    "new_bir_delta = [(offline.values[i]-bir_mean.values[i])[0] for i in range(len(fly_mean.values))]"
   ]
  },
  {
   "cell_type": "code",
   "execution_count": 41,
   "metadata": {},
   "outputs": [],
   "source": [
    "new_fly_delta = [fly1.iloc[i,i] for i in range(len(fly_mean.values))]\n",
    "new_ewc_delta = [ewc1.iloc[i,i] for i in range(len(fly_mean.values))]\n",
    "new_gem_delta = [gem1.iloc[i,i] for i in range(len(fly_mean.values))]\n",
    "new_vanilla_delta = [vanilla1.iloc[i,i] for i in range(len(fly_mean.values))]\n",
    "new_bir_delta = [br1.iloc[i,i] for i in range(len(fly_mean.values))]"
   ]
  },
  {
   "cell_type": "code",
   "execution_count": 42,
   "metadata": {},
   "outputs": [
    {
     "data": {
      "image/png": "[encoded data removed]",
      "text/plain": [
       "<Figure size 1152x360 with 1 Axes>"
      ]
     },
     "metadata": {
      "needs_background": "light"
     },
     "output_type": "display_data"
    }
   ],
   "source": [
    "barWidth = 0.15\n",
    "plt.figure(figsize=(16,5))\n",
    " \n",
    "# Set position of bar on X axis\n",
    "r1 = np.arange(len(fly_delta_mean)) + 3.5*barWidth\n",
    "r2 = [x - barWidth for x in r1]\n",
    "r3 = [x - barWidth for x in r2]\n",
    "r4 = [x - barWidth for x in r3]\n",
    "r5 = [x - barWidth for x in r4]\n",
    " \n",
    "# Make the plot\n",
    "plt.bar(r1, new_fly_delta, color='#E63946', width=barWidth, edgecolor='#E63946', label='FlyModel')\n",
    "plt.bar(r2, new_ewc_delta, color='#457B9D', width=barWidth, edgecolor='#457B9D', label='EWC')\n",
    "plt.bar(r3, new_gem_delta, color='#70C1B3', width=barWidth, edgecolor='#70C1B3', label='GEM')\n",
    "plt.bar(r4, new_vanilla_delta, color='#1D3557', width=barWidth, edgecolor='#1D3557', label='Vanilla')\n",
    "plt.bar(r5, new_bir_delta, color='#fca311', width=barWidth, edgecolor='#fca311', label='BI-R')\n",
    " \n",
    "# Add xticks on the middle of the group bars\n",
    "plt.xlabel('Task Number', size=16, color='black')\n",
    "plt.ylabel('Accuracy right after training of each task', size=16, color='black')\n",
    "plt.xticks([r + 1.5*barWidth for r in range(len(fly_delta_mean))], list(range(1,11)), size=14, color='black')\n",
    "plt.yticks(size=14, color='black')\n",
    "#plt.ylim(0,1)\n",
    " \n",
    "# Create legend & Show graphic\n",
    "plt.legend(loc='best',fontsize=16)\n",
    "plt.show()"
   ]
  },
  {
   "cell_type": "code",
   "execution_count": 43,
   "metadata": {},
   "outputs": [],
   "source": [
    "fly_select = list(fly_delta_mean.values[i] for i in [0,1,3,5,7,9])\n",
    "ewc_select = list(ewc_delta_mean.values[i] for i in [0,1,3,5,7,9])\n",
    "gem_select = list(gem_delta_mean.values[i] for i in [0,1,3,5,7,9])\n",
    "vanilla_select = list(vanilla_delta_mean.values[i] for i in [0,1,3,5,7,9])\n",
    "bir_select = list(bir_delta_mean.values[i] for i in [0,1,3,5,7,9])\n",
    "\n",
    "fly_select_std = list(fly_delta_std.values[i] for i in [0,1,3,5,7,9])\n",
    "ewc_select_std = list(ewc_delta_std.values[i] for i in [0,1,3,5,7,9])\n",
    "gem_select_std = list(gem_delta_std.values[i] for i in [0,1,3,5,7,9])\n",
    "vanilla_select_std = list(vanilla_delta_std.values[i] for i in [0,1,3,5,7,9])\n",
    "bir_select_std = list(bir_delta_std.values[i] for i in [0,1,3,5,7,9])"
   ]
  },
  {
   "cell_type": "code",
   "execution_count": 44,
   "metadata": {},
   "outputs": [
    {
     "data": {
      "image/png": "[encoded data removed]",
      "text/plain": [
       "<Figure size 576x360 with 1 Axes>"
      ]
     },
     "metadata": {
      "needs_background": "light"
     },
     "output_type": "display_data"
    }
   ],
   "source": [
    "barWidth = 0.15\n",
    "plt.figure(figsize=(8,5))\n",
    " \n",
    "# Set position of bar on X axis\n",
    "r1 = np.arange(len(fly_select)) + 3.5*barWidth\n",
    "r2 = [x - barWidth for x in r1]\n",
    "r3 = [x - barWidth for x in r2]\n",
    "r4 = [x - barWidth for x in r3]\n",
    "r5 = [x - barWidth for x in r4]\n",
    " \n",
    "# Make the plot\n",
    "plt.bar(r1, fly_select, yerr=fly_select_std, color='#E63946', width=barWidth, edgecolor='#E63946', label='FlyModel')\n",
    "plt.bar(r3, ewc_select, yerr=ewc_select_std, color='#457B9D', width=barWidth, edgecolor='#457B9D', label='EWC')\n",
    "plt.bar(r2, gem_select, yerr=gem_select_std, color='#70C1B3', width=barWidth, edgecolor='#70C1B3', label='GEM')\n",
    "plt.bar(r4, bir_select, yerr=bir_select_std, color='#fca311', width=barWidth, edgecolor='#fca311', label='BI-R')\n",
    "plt.bar(r5, vanilla_select, yerr=vanilla_select_std, color='#1D3557', width=barWidth, edgecolor='#1D3557', label='Vanilla')\n",
    " \n",
    "# Add xticks on the middle of the group bars\n",
    "plt.xlabel('Task Number', size=18, color='black')\n",
    "plt.ylabel('Memory Loss', size=18, color='black')\n",
    "plt.xticks([r + 1.5*barWidth for r in range(len(fly_select))], ['1','2','4','6','8','10'], size=14, color='black')\n",
    "plt.yticks(size=14, color='black')\n",
    "plt.xlim(-0.5,6.5)\n",
    " \n",
    "# Create legend & Show graphic\n",
    "#plt.legend(loc='best',fontsize=16)\n",
    "#plt.show()\n",
    "plt.savefig('../figures/Fig_2B.png',dpi=512);"
   ]
  },
  {
   "cell_type": "code",
   "execution_count": null,
   "metadata": {},
   "outputs": [],
   "source": []
  }
 ],
 "metadata": {
  "kernelspec": {
   "display_name": "Python 3",
   "language": "python",
   "name": "python3"
  },
  "language_info": {
   "codemirror_mode": {
    "name": "ipython",
    "version": 3
   },
   "file_extension": ".py",
   "mimetype": "text/x-python",
   "name": "python",
   "nbconvert_exporter": "python",
   "pygments_lexer": "ipython3",
   "version": "3.7.4"
  }
 },
 "nbformat": 4,
 "nbformat_minor": 2
}
