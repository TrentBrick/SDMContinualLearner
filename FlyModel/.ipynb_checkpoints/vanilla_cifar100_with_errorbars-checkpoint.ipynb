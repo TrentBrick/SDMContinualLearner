{
 "cells": [
  {
   "cell_type": "code",
   "execution_count": null,
   "metadata": {},
   "outputs": [],
   "source": [
    "import random\n",
    "import torch\n",
    "from torch import nn\n",
    "from torch.nn import functional as F\n",
    "import pandas as pd\n",
    "import numpy as np\n",
    "\n",
    "from torch.utils.data import Dataset, DataLoader, TensorDataset\n",
    "from torchvision import datasets, transforms\n",
    "from torch import optim\n",
    "\n",
    "from tqdm import tqdm\n",
    "import sys\n",
    "\n",
    "%matplotlib inline\n",
    "import matplotlib.pyplot as plt\n",
    "\n",
    "plt.style.use(\"seaborn-white\")"
   ]
  },
  {
   "cell_type": "code",
   "execution_count": null,
   "metadata": {},
   "outputs": [],
   "source": [
    "def split_data(data, labels, split, bs):\n",
    "    from collections import Counter\n",
    "    distinct_labels = list(Counter(labels).keys())\n",
    "    n_labels = len(distinct_labels)\n",
    "    n_split = int(n_labels/split)\n",
    "    trans = data.T\n",
    "    trans.columns = labels\n",
    "    dataloader = {}\n",
    "    datasets = {}\n",
    "    for i in range(n_split):\n",
    "        cond1 = trans.columns.values >= i*split\n",
    "        cond2 = trans.columns.values < (i+1)*split\n",
    "        out = trans.iloc[:,cond1&cond2]\n",
    "        out_label = out.columns.values\n",
    "        out, out_label = map(torch.tensor, (out.T.to_numpy(), out_label))\n",
    "        datasets[i] = TensorDataset(out.float(), out_label)\n",
    "        dataloader[i] = DataLoader(datasets[i], batch_size=bs, shuffle=True)\n",
    "    \n",
    "    return (datasets, dataloader)"
   ]
  },
  {
   "cell_type": "code",
   "execution_count": null,
   "metadata": {},
   "outputs": [],
   "source": [
    "class LinearLayer(nn.Module):\n",
    "    def __init__(self, input_dim, output_dim, act='relu', use_bn=False):\n",
    "        super(LinearLayer, self).__init__()\n",
    "        self.use_bn = use_bn\n",
    "        self.lin = nn.Linear(input_dim, output_dim)\n",
    "        self.act = nn.ReLU() if act == 'relu' else act\n",
    "        if use_bn:\n",
    "            self.bn = nn.BatchNorm1d(output_dim)\n",
    "    def forward(self, x):\n",
    "        if self.use_bn:\n",
    "            return self.bn(self.act(self.lin(x)))\n",
    "        return self.act(self.lin(x))\n",
    "\n",
    "class Flatten(nn.Module):\n",
    "\n",
    "    def forward(self, x):\n",
    "        return x.view(x.shape[0], -1)\n",
    "\n",
    "class BaseModel(nn.Module):    \n",
    "    def __init__(self, num_inputs, num_hidden, num_outputs):\n",
    "        super(BaseModel, self).__init__()\n",
    "        #self.f1 = Flatten()\n",
    "        self.lin1 = LinearLayer(num_inputs, num_hidden, use_bn=False)\n",
    "        self.lin2 = nn.Linear(num_hidden, num_outputs)\n",
    "        \n",
    "    def forward(self, x):\n",
    "        #fc1 = self.f1(x)\n",
    "        h1 = self.lin1(x)\n",
    "        out = self.lin2(h1)\n",
    "        return out"
   ]
  },
  {
   "cell_type": "code",
   "execution_count": null,
   "metadata": {},
   "outputs": [],
   "source": [
    "def accu(model, dataloader):\n",
    "    model = model.eval()\n",
    "    acc = 0\n",
    "    count = 0\n",
    "    for input, target in dataloader:\n",
    "        o = model(input)\n",
    "        acc += (o.argmax(dim=1).long() == target).float().sum()\n",
    "        count += len(target)\n",
    "    return acc/count"
   ]
  },
  {
   "cell_type": "code",
   "execution_count": null,
   "metadata": {},
   "outputs": [],
   "source": [
    "train_data = pd.read_csv('./processed_data/cifar100_train_resnet18.csv',header=None)\n",
    "train_label = pd.read_csv('./processed_data/cifar100_train_label_resnet18.csv',header=None)\n",
    "train_label = [train_label.values[i][0] for i in range(train_label.shape[0])]\n",
    "test = pd.read_csv('./processed_data/cifar100_test_resnet18.csv',header=None)\n",
    "test_label = pd.read_csv('./processed_data/cifar100_test_label_resnet18.csv',header=None)\n",
    "test_label = [test_label.values[i][0] for i in range(test_label.shape[0])]"
   ]
  },
  {
   "cell_type": "code",
   "execution_count": null,
   "metadata": {},
   "outputs": [],
   "source": [
    "split_train, split_train_loader = split_data(train_data, train_label, 4, 64)\n",
    "split_test, split_test_loader = split_data(test, test_label, 4, 64)"
   ]
  },
  {
   "cell_type": "code",
   "execution_count": null,
   "metadata": {},
   "outputs": [],
   "source": [
    "seeds = [1,2,3,5,8]\n",
    "lr = 1e-3\n",
    "n_task = 25"
   ]
  },
  {
   "cell_type": "code",
   "execution_count": null,
   "metadata": {},
   "outputs": [],
   "source": [
    "for seed in seeds:\n",
    "\n",
    "    criterion = nn.CrossEntropyLoss()\n",
    "    torch.backends.cudnn.enabled=False\n",
    "    torch.backends.cudnn.deterministic=True\n",
    "    torch.manual_seed(seed)\n",
    "    torch.cuda.manual_seed(seed)\n",
    "    np.random.seed(seed)\n",
    "    random.seed(seed)\n",
    "    model = BaseModel(512,20000,100)\n",
    "    optimizer = optim.SGD(model.parameters(), lr=lr, momentum=0.9)\n",
    "    \n",
    "    accuracy = np.zeros([n_task, n_task])\n",
    "\n",
    "    for i in range(n_task):\n",
    "        model.train()\n",
    "        for _ in range(1):\n",
    "            for input, target in tqdm(split_train_loader[i]):\n",
    "                optimizer.zero_grad()\n",
    "                outputs = model(input)\n",
    "                loss = criterion(outputs, target)\n",
    "                loss.backward()\n",
    "                optimizer.step()\n",
    "\n",
    "        model.eval()\n",
    "        for j in range(i+1):\n",
    "            accuracy[i,j] = accu(model,split_test_loader[j]).item()\n",
    "            \n",
    "    accuracy = pd.DataFrame(accuracy)\n",
    "    accuracy.to_csv('./accuracy/Vanilla_cifar100_resnet18_all_result_lr1e-3_randseed_'+str(seed)+'.csv',index=False,header=False)"
   ]
  },
  {
   "cell_type": "code",
   "execution_count": null,
   "metadata": {},
   "outputs": [],
   "source": []
  }
 ],
 "metadata": {
  "kernelspec": {
   "display_name": "Python 3",
   "language": "python",
   "name": "python3"
  },
  "language_info": {
   "codemirror_mode": {
    "name": "ipython",
    "version": 3
   },
   "file_extension": ".py",
   "mimetype": "text/x-python",
   "name": "python",
   "nbconvert_exporter": "python",
   "pygments_lexer": "ipython3",
   "version": "3.7.4"
  }
 },
 "nbformat": 4,
 "nbformat_minor": 2
}
